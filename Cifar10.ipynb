{
  "nbformat": 4,
  "nbformat_minor": 0,
  "metadata": {
    "colab": {
      "name": "Cifar10.ipynb",
      "provenance": [],
      "collapsed_sections": [],
      "mount_file_id": "1VFIMm_J1f-UZVnuayshoiBqytFVU8pBr",
      "authorship_tag": "ABX9TyO3J+do24rJMk1HLXa9Ak9t",
      "include_colab_link": true
    },
    "kernelspec": {
      "name": "python3",
      "display_name": "Python 3"
    },
    "language_info": {
      "name": "python"
    },
    "accelerator": "GPU"
  },
  "cells": [
    {
      "cell_type": "markdown",
      "metadata": {
        "id": "view-in-github",
        "colab_type": "text"
      },
      "source": [
        "<a href=\"https://colab.research.google.com/github/arpithak2818/ML-Projects/blob/main/Cifar10.ipynb\" target=\"_parent\"><img src=\"https://colab.research.google.com/assets/colab-badge.svg\" alt=\"Open In Colab\"/></a>"
      ]
    },
    {
      "cell_type": "code",
      "metadata": {
        "id": "jmkMsKp_3FUl"
      },
      "source": [
        "import tensorflow as tf\n",
        "import numpy as np\n",
        "from tensorflow.keras.models import Sequential\n",
        "from tensorflow.keras.layers import Dense,Conv2D,Flatten,MaxPooling2D\n",
        "from tensorflow.keras.datasets import cifar10\n",
        "from sklearn.model_selection import train_test_split\n",
        "from keras.utils import np_utils\n",
        "import matplotlib.pyplot as plt"
      ],
      "execution_count": null,
      "outputs": []
    },
    {
      "cell_type": "code",
      "metadata": {
        "colab": {
          "base_uri": "https://localhost:8080/"
        },
        "id": "0ubOQ2BF4Hit",
        "outputId": "06f6adba-f9ae-42f4-aeb9-33df57360827"
      },
      "source": [
        "#loading the data\n",
        "(x_train,y_train),(x_test,y_test) = cifar10.load_data()"
      ],
      "execution_count": null,
      "outputs": [
        {
          "output_type": "stream",
          "text": [
            "Downloading data from https://www.cs.toronto.edu/~kriz/cifar-10-python.tar.gz\n",
            "170500096/170498071 [==============================] - 2s 0us/step\n"
          ],
          "name": "stdout"
        }
      ]
    },
    {
      "cell_type": "code",
      "metadata": {
        "colab": {
          "base_uri": "https://localhost:8080/"
        },
        "id": "95ANDOQt4XYA",
        "outputId": "787af011-d051-4fa8-8528-2cfe30abbe68"
      },
      "source": [
        "x_train.shape"
      ],
      "execution_count": null,
      "outputs": [
        {
          "output_type": "execute_result",
          "data": {
            "text/plain": [
              "(50000, 32, 32, 3)"
            ]
          },
          "metadata": {
            "tags": []
          },
          "execution_count": 3
        }
      ]
    },
    {
      "cell_type": "code",
      "metadata": {
        "colab": {
          "base_uri": "https://localhost:8080/"
        },
        "id": "cgIK-d174cAO",
        "outputId": "4777b4fa-e2db-47da-8323-d0ef1ea476d4"
      },
      "source": [
        "print(x_test.shape)\n",
        "print(y_train.shape)"
      ],
      "execution_count": null,
      "outputs": [
        {
          "output_type": "stream",
          "text": [
            "(10000, 32, 32, 3)\n",
            "(50000, 1)\n"
          ],
          "name": "stdout"
        }
      ]
    },
    {
      "cell_type": "code",
      "metadata": {
        "colab": {
          "base_uri": "https://localhost:8080/"
        },
        "id": "c7RMzvsH4j_Q",
        "outputId": "161647a1-8997-469d-da69-c27fc10599bf"
      },
      "source": [
        "x_train[3]"
      ],
      "execution_count": null,
      "outputs": [
        {
          "output_type": "execute_result",
          "data": {
            "text/plain": [
              "array([[[ 28,  25,  10],\n",
              "        [ 37,  34,  19],\n",
              "        [ 38,  35,  20],\n",
              "        ...,\n",
              "        [ 76,  67,  39],\n",
              "        [ 81,  72,  43],\n",
              "        [ 85,  76,  47]],\n",
              "\n",
              "       [[ 33,  28,  13],\n",
              "        [ 34,  30,  14],\n",
              "        [ 32,  27,  12],\n",
              "        ...,\n",
              "        [ 95,  82,  55],\n",
              "        [ 96,  82,  56],\n",
              "        [ 85,  72,  45]],\n",
              "\n",
              "       [[ 39,  32,  15],\n",
              "        [ 40,  33,  17],\n",
              "        [ 57,  50,  33],\n",
              "        ...,\n",
              "        [ 93,  76,  52],\n",
              "        [107,  89,  66],\n",
              "        [ 95,  77,  54]],\n",
              "\n",
              "       ...,\n",
              "\n",
              "       [[ 83,  73,  52],\n",
              "        [ 87,  77,  56],\n",
              "        [ 84,  74,  52],\n",
              "        ...,\n",
              "        [ 99,  93,  70],\n",
              "        [ 90,  84,  61],\n",
              "        [ 81,  75,  52]],\n",
              "\n",
              "       [[ 88,  72,  51],\n",
              "        [ 90,  74,  52],\n",
              "        [ 93,  77,  56],\n",
              "        ...,\n",
              "        [ 80,  74,  53],\n",
              "        [ 76,  70,  49],\n",
              "        [ 82,  76,  55]],\n",
              "\n",
              "       [[ 97,  78,  56],\n",
              "        [ 94,  75,  53],\n",
              "        [ 93,  75,  53],\n",
              "        ...,\n",
              "        [ 54,  47,  28],\n",
              "        [ 63,  56,  37],\n",
              "        [ 72,  65,  46]]], dtype=uint8)"
            ]
          },
          "metadata": {
            "tags": []
          },
          "execution_count": 5
        }
      ]
    },
    {
      "cell_type": "code",
      "metadata": {
        "colab": {
          "base_uri": "https://localhost:8080/",
          "height": 266
        },
        "id": "18JzG5pg4rPc",
        "outputId": "9c772fcf-1507-4f79-cac8-cb2687a846bf"
      },
      "source": [
        "#plotting the image\n",
        "plt.imshow(x_train[3])\n",
        "plt.show()"
      ],
      "execution_count": null,
      "outputs": [
        {
          "output_type": "display_data",
          "data": {
            "image/png": "[encoded data removed]",
            "text/plain": [
              "<Figure size 432x288 with 1 Axes>"
            ]
          },
          "metadata": {
            "tags": [],
            "needs_background": "light"
          }
        }
      ]
    },
    {
      "cell_type": "code",
      "metadata": {
        "colab": {
          "base_uri": "https://localhost:8080/"
        },
        "id": "-jxooEfy5CwH",
        "outputId": "8a72e05a-0f9f-4dbf-d89d-bf9e34ad94b2"
      },
      "source": [
        "y_train"
      ],
      "execution_count": null,
      "outputs": [
        {
          "output_type": "execute_result",
          "data": {
            "text/plain": [
              "array([[6],\n",
              "       [9],\n",
              "       [9],\n",
              "       ...,\n",
              "       [9],\n",
              "       [1],\n",
              "       [1]], dtype=uint8)"
            ]
          },
          "metadata": {
            "tags": []
          },
          "execution_count": 7
        }
      ]
    },
    {
      "cell_type": "code",
      "metadata": {
        "colab": {
          "base_uri": "https://localhost:8080/"
        },
        "id": "YROrn_Vk5G5W",
        "outputId": "9f2276d1-1a09-441e-f506-7eeca5925bce"
      },
      "source": [
        "np.unique(y_train)"
      ],
      "execution_count": null,
      "outputs": [
        {
          "output_type": "execute_result",
          "data": {
            "text/plain": [
              "array([0, 1, 2, 3, 4, 5, 6, 7, 8, 9], dtype=uint8)"
            ]
          },
          "metadata": {
            "tags": []
          },
          "execution_count": 8
        }
      ]
    },
    {
      "cell_type": "code",
      "metadata": {
        "id": "-B3xhy5k5NQD"
      },
      "source": [
        "#normalizing our dataset images from values of pixels between 0-255 to 0-1\n",
        "x_train = x_train/255\n",
        "x_test = x_test/255"
      ],
      "execution_count": null,
      "outputs": []
    },
    {
      "cell_type": "code",
      "metadata": {
        "colab": {
          "base_uri": "https://localhost:8080/"
        },
        "id": "QJxI4Tdu5eT-",
        "outputId": "1d690ea9-4a71-4c3a-c645-1b70c978288e"
      },
      "source": [
        "x_train[3]"
      ],
      "execution_count": null,
      "outputs": [
        {
          "output_type": "execute_result",
          "data": {
            "text/plain": [
              "array([[[0.10980392, 0.09803922, 0.03921569],\n",
              "        [0.14509804, 0.13333333, 0.0745098 ],\n",
              "        [0.14901961, 0.1372549 , 0.07843137],\n",
              "        ...,\n",
              "        [0.29803922, 0.2627451 , 0.15294118],\n",
              "        [0.31764706, 0.28235294, 0.16862745],\n",
              "        [0.33333333, 0.29803922, 0.18431373]],\n",
              "\n",
              "       [[0.12941176, 0.10980392, 0.05098039],\n",
              "        [0.13333333, 0.11764706, 0.05490196],\n",
              "        [0.1254902 , 0.10588235, 0.04705882],\n",
              "        ...,\n",
              "        [0.37254902, 0.32156863, 0.21568627],\n",
              "        [0.37647059, 0.32156863, 0.21960784],\n",
              "        [0.33333333, 0.28235294, 0.17647059]],\n",
              "\n",
              "       [[0.15294118, 0.1254902 , 0.05882353],\n",
              "        [0.15686275, 0.12941176, 0.06666667],\n",
              "        [0.22352941, 0.19607843, 0.12941176],\n",
              "        ...,\n",
              "        [0.36470588, 0.29803922, 0.20392157],\n",
              "        [0.41960784, 0.34901961, 0.25882353],\n",
              "        [0.37254902, 0.30196078, 0.21176471]],\n",
              "\n",
              "       ...,\n",
              "\n",
              "       [[0.3254902 , 0.28627451, 0.20392157],\n",
              "        [0.34117647, 0.30196078, 0.21960784],\n",
              "        [0.32941176, 0.29019608, 0.20392157],\n",
              "        ...,\n",
              "        [0.38823529, 0.36470588, 0.2745098 ],\n",
              "        [0.35294118, 0.32941176, 0.23921569],\n",
              "        [0.31764706, 0.29411765, 0.20392157]],\n",
              "\n",
              "       [[0.34509804, 0.28235294, 0.2       ],\n",
              "        [0.35294118, 0.29019608, 0.20392157],\n",
              "        [0.36470588, 0.30196078, 0.21960784],\n",
              "        ...,\n",
              "        [0.31372549, 0.29019608, 0.20784314],\n",
              "        [0.29803922, 0.2745098 , 0.19215686],\n",
              "        [0.32156863, 0.29803922, 0.21568627]],\n",
              "\n",
              "       [[0.38039216, 0.30588235, 0.21960784],\n",
              "        [0.36862745, 0.29411765, 0.20784314],\n",
              "        [0.36470588, 0.29411765, 0.20784314],\n",
              "        ...,\n",
              "        [0.21176471, 0.18431373, 0.10980392],\n",
              "        [0.24705882, 0.21960784, 0.14509804],\n",
              "        [0.28235294, 0.25490196, 0.18039216]]])"
            ]
          },
          "metadata": {
            "tags": []
          },
          "execution_count": 10
        }
      ]
    },
    {
      "cell_type": "code",
      "metadata": {
        "id": "AVzTUgtg5mu6"
      },
      "source": [
        "#Encoding the labels using np_utils\n",
        "y_train = np_utils.to_categorical(y_train)\n",
        "y_test =np_utils.to_categorical(y_test)"
      ],
      "execution_count": null,
      "outputs": []
    },
    {
      "cell_type": "code",
      "metadata": {
        "id": "-cbRWD0L5_sr"
      },
      "source": [
        "#Building our Convolution neural network\n",
        "model = Sequential()"
      ],
      "execution_count": null,
      "outputs": []
    },
    {
      "cell_type": "code",
      "metadata": {
        "id": "uD9ZUC4T7Zn2"
      },
      "source": [
        "model.add(Conv2D(32,(3,3),activation='relu',input_shape=(32,32,3)))\n",
        "model.add(MaxPooling2D(2,2))\n",
        "model.add(Conv2D(16,(2,2),activation='relu'))\n",
        "model.add(MaxPooling2D(2,2))\n",
        "model.add(Flatten())\n",
        "model.add(Dense(32,activation='relu'))\n",
        "model.add(Dense(32,activation='relu'))\n",
        "model.add(Dense(10,activation='softmax'))"
      ],
      "execution_count": null,
      "outputs": []
    },
    {
      "cell_type": "code",
      "metadata": {
        "colab": {
          "base_uri": "https://localhost:8080/"
        },
        "id": "7lpIs05x8X3L",
        "outputId": "f4e37b12-2d90-418e-b6e5-3f1a9e9299f5"
      },
      "source": [
        "model.summary()"
      ],
      "execution_count": null,
      "outputs": [
        {
          "output_type": "stream",
          "text": [
            "Model: \"sequential\"\n",
            "_________________________________________________________________\n",
            "Layer (type)                 Output Shape              Param #   \n",
            "=================================================================\n",
            "conv2d (Conv2D)              (None, 30, 30, 32)        896       \n",
            "_________________________________________________________________\n",
            "max_pooling2d (MaxPooling2D) (None, 15, 15, 32)        0         \n",
            "_________________________________________________________________\n",
            "conv2d_1 (Conv2D)            (None, 14, 14, 16)        2064      \n",
            "_________________________________________________________________\n",
            "max_pooling2d_1 (MaxPooling2 (None, 7, 7, 16)          0         \n",
            "_________________________________________________________________\n",
            "flatten (Flatten)            (None, 784)               0         \n",
            "_________________________________________________________________\n",
            "dense (Dense)                (None, 32)                25120     \n",
            "_________________________________________________________________\n",
            "dense_1 (Dense)              (None, 32)                1056      \n",
            "_________________________________________________________________\n",
            "dense_2 (Dense)              (None, 10)                330       \n",
            "=================================================================\n",
            "Total params: 29,466\n",
            "Trainable params: 29,466\n",
            "Non-trainable params: 0\n",
            "_________________________________________________________________\n"
          ],
          "name": "stdout"
        }
      ]
    },
    {
      "cell_type": "code",
      "metadata": {
        "id": "L9zAsIXa8en7"
      },
      "source": [
        "model.compile(loss='categorical_crossentropy',optimizer='adam',metrics='accuracy')"
      ],
      "execution_count": null,
      "outputs": []
    },
    {
      "cell_type": "code",
      "metadata": {
        "colab": {
          "base_uri": "https://localhost:8080/"
        },
        "id": "A-9cvNwv8stZ",
        "outputId": "9b161d25-626d-4b99-aca9-163911797e3a"
      },
      "source": [
        "history=model.fit(x_train,y_train,batch_size=128,epochs=10)"
      ],
      "execution_count": null,
      "outputs": [
        {
          "output_type": "stream",
          "text": [
            "Epoch 1/10\n",
            "391/391 [==============================] - 3s 6ms/step - loss: 1.0578 - accuracy: 0.6288\n",
            "Epoch 2/10\n",
            "391/391 [==============================] - 2s 5ms/step - loss: 1.0245 - accuracy: 0.6421\n",
            "Epoch 3/10\n",
            "391/391 [==============================] - 2s 5ms/step - loss: 0.9975 - accuracy: 0.6506\n",
            "Epoch 4/10\n",
            "391/391 [==============================] - 2s 5ms/step - loss: 0.9773 - accuracy: 0.6577\n",
            "Epoch 5/10\n",
            "391/391 [==============================] - 2s 5ms/step - loss: 0.9566 - accuracy: 0.6651\n",
            "Epoch 6/10\n",
            "391/391 [==============================] - 2s 5ms/step - loss: 0.9515 - accuracy: 0.6674\n",
            "Epoch 7/10\n",
            "391/391 [==============================] - 2s 5ms/step - loss: 0.9269 - accuracy: 0.6768\n",
            "Epoch 8/10\n",
            "391/391 [==============================] - 2s 5ms/step - loss: 0.9139 - accuracy: 0.6811\n",
            "Epoch 9/10\n",
            "391/391 [==============================] - 2s 5ms/step - loss: 0.9030 - accuracy: 0.6855\n",
            "Epoch 10/10\n",
            "391/391 [==============================] - 2s 5ms/step - loss: 0.8979 - accuracy: 0.6879\n"
          ],
          "name": "stdout"
        }
      ]
    },
    {
      "cell_type": "code",
      "metadata": {
        "colab": {
          "base_uri": "https://localhost:8080/"
        },
        "id": "XeTx8m9P9nEL",
        "outputId": "95d2fb74-04e6-4793-8045-36115d5b4976"
      },
      "source": [
        "#evaluating our test data\n",
        "model.evaluate(x_test,y_test)"
      ],
      "execution_count": null,
      "outputs": [
        {
          "output_type": "stream",
          "text": [
            "313/313 [==============================] - 1s 3ms/step - loss: 0.9695 - accuracy: 0.6629\n"
          ],
          "name": "stdout"
        },
        {
          "output_type": "execute_result",
          "data": {
            "text/plain": [
              "[0.9695188403129578, 0.6628999710083008]"
            ]
          },
          "metadata": {
            "tags": []
          },
          "execution_count": 20
        }
      ]
    },
    {
      "cell_type": "code",
      "metadata": {
        "colab": {
          "base_uri": "https://localhost:8080/",
          "height": 283
        },
        "id": "aTxDexDc98mv",
        "outputId": "f2a1cb18-042a-4fce-e64f-b1ee2330cb2c"
      },
      "source": [
        "#plotting our accuracy\n",
        "plt.plot(history.history['accuracy'])"
      ],
      "execution_count": null,
      "outputs": [
        {
          "output_type": "execute_result",
          "data": {
            "text/plain": [
              "[<matplotlib.lines.Line2D at 0x7ff617710810>]"
            ]
          },
          "metadata": {
            "tags": []
          },
          "execution_count": 21
        },
        {
          "output_type": "display_data",
          "data": {
            "image/png": "[encoded data removed]",
            "text/plain": [
              "<Figure size 432x288 with 1 Axes>"
            ]
          },
          "metadata": {
            "tags": [],
            "needs_background": "light"
          }
        }
      ]
    },
    {
      "cell_type": "code",
      "metadata": {
        "id": "MSHJpI6M-SC0"
      },
      "source": [
        "#predicting the model\n",
        "prediction=model.predict(x_test)"
      ],
      "execution_count": null,
      "outputs": []
    },
    {
      "cell_type": "code",
      "metadata": {
        "colab": {
          "base_uri": "https://localhost:8080/"
        },
        "id": "ed9AqOCc-bkj",
        "outputId": "1ddb57ff-668f-4581-8a53-dedbefe6e05d"
      },
      "source": [
        "#rounding our output to the exact number\n",
        "print(np.argmax(np.round(prediction[450])))"
      ],
      "execution_count": null,
      "outputs": [
        {
          "output_type": "stream",
          "text": [
            "6\n"
          ],
          "name": "stdout"
        }
      ]
    },
    {
      "cell_type": "code",
      "metadata": {
        "id": "xtQSNOiI-tuU"
      },
      "source": [
        ""
      ],
      "execution_count": null,
      "outputs": []
    }
  ]
}