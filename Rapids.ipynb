{
  "nbformat": 4,
  "nbformat_minor": 0,
  "metadata": {
    "colab": {
      "name": "Rapids.ipynb",
      "private_outputs": true,
      "provenance": [],
      "collapsed_sections": [],
      "mount_file_id": "1hyV2aC3z5vYqmxzcPYQmXwvyrf7Yux1g",
      "authorship_tag": "ABX9TyMqWAhJ9NeLT7DqyJOPRMzR",
      "include_colab_link": true
    },
    "kernelspec": {
      "name": "python3",
      "display_name": "Python 3"
    },
    "language_info": {
      "name": "python"
    },
    "accelerator": "GPU"
  },
  "cells": [
    {
      "cell_type": "markdown",
      "metadata": {
        "id": "view-in-github",
        "colab_type": "text"
      },
      "source": [
        "<a href=\"https://colab.research.google.com/github/arpithak2818/ML-Projects/blob/main/Rapids.ipynb\" target=\"_parent\"><img src=\"https://colab.research.google.com/assets/colab-badge.svg\" alt=\"Open In Colab\"/></a>"
      ]
    },
    {
      "cell_type": "code",
      "metadata": {
        "id": "SPzMGRxItrjX"
      },
      "source": [
        "# Install RAPIDS\n",
        "!git clone https://github.com/rapidsai/rapidsai-csp-utils.git\n",
        "!bash rapidsai-csp-utils/colab/rapids-colab.sh stable\n",
        "\n",
        "import sys, os\n",
        "\n",
        "dist_package_index = sys.path.index('/usr/local/lib/python3.7/dist-packages')\n",
        "sys.path = sys.path[:dist_package_index] + ['/usr/local/lib/python3.7/site-packages'] + sys.path[dist_package_index:]\n",
        "sys.path\n",
        "exec(open('rapidsai-csp-utils/colab/update_modules.py').read(), globals())"
      ],
      "execution_count": null,
      "outputs": []
    },
    {
      "cell_type": "code",
      "metadata": {
        "id": "0Qyxzv-MyHgX"
      },
      "source": [
        "import numpy as np\n",
        "import pandas as pd\n",
        "import seaborn as sns\n",
        "import matplotlib.pyplot as plt\n",
        "import tqdm"
      ],
      "execution_count": null,
      "outputs": []
    },
    {
      "cell_type": "code",
      "metadata": {
        "id": "8DT0YbjVyMIn"
      },
      "source": [
        "%%time\n",
        "pd_train = pd.read_csv(\"/content/drive/MyDrive/Human Activity Recognition/train.csv\")\n",
        "pd_test = pd.read_csv(\"/content/drive/MyDrive/Human Activity Recognition/test.csv\")"
      ],
      "execution_count": null,
      "outputs": []
    },
    {
      "cell_type": "code",
      "metadata": {
        "id": "r6RoV77I4h2V"
      },
      "source": [
        "pd_train.head()"
      ],
      "execution_count": null,
      "outputs": []
    },
    {
      "cell_type": "code",
      "metadata": {
        "id": "0Aupt8Vf4lH1"
      },
      "source": [
        "pd_test.head()"
      ],
      "execution_count": null,
      "outputs": []
    },
    {
      "cell_type": "code",
      "metadata": {
        "id": "okvfRiOH4qE3"
      },
      "source": [
        "%%time\n",
        "pd_data  = pd.concat([pd_train , pd_test])\n",
        "print(pd_data.head())\n",
        "pd_data.reset_index(inplace = True)\n",
        "pd_data.drop('index' , inplace = True, axis = 1)"
      ],
      "execution_count": null,
      "outputs": []
    },
    {
      "cell_type": "code",
      "metadata": {
        "id": "a1skLjUj4xTl"
      },
      "source": [
        "pd_data.head()"
      ],
      "execution_count": null,
      "outputs": []
    },
    {
      "cell_type": "code",
      "metadata": {
        "id": "lsUosSc342yi"
      },
      "source": [
        "pd_data.shape"
      ],
      "execution_count": null,
      "outputs": []
    },
    {
      "cell_type": "code",
      "metadata": {
        "id": "ndpVGiQ24-i4"
      },
      "source": [
        "print(pd_data.columns)"
      ],
      "execution_count": null,
      "outputs": []
    },
    {
      "cell_type": "code",
      "metadata": {
        "id": "bAsPK1K65B0G"
      },
      "source": [
        "y = pd_data['Activity'].copy()\n",
        "x = pd_data.iloc[:,:-1]"
      ],
      "execution_count": null,
      "outputs": []
    },
    {
      "cell_type": "code",
      "metadata": {
        "id": "yEW3B4xm5ILX"
      },
      "source": [
        "x.head()"
      ],
      "execution_count": null,
      "outputs": []
    },
    {
      "cell_type": "code",
      "metadata": {
        "id": "5gVda3KN5NXS"
      },
      "source": [
        "columnNames = list()\n",
        "columnNames = pd_data.columns\n",
        "columnNames"
      ],
      "execution_count": null,
      "outputs": []
    },
    {
      "cell_type": "code",
      "metadata": {
        "id": "KQgzwOVz5USy"
      },
      "source": [
        "list(columnNames)"
      ],
      "execution_count": null,
      "outputs": []
    },
    {
      "cell_type": "code",
      "metadata": {
        "id": "Gst7vYSS74nQ"
      },
      "source": [
        "bad_char = ['-','()','(',')',',']"
      ],
      "execution_count": null,
      "outputs": []
    },
    {
      "cell_type": "code",
      "metadata": {
        "id": "gpY70M-n7_xy"
      },
      "source": [
        "newcolumnNames = []\n",
        "for colname in columnNames:\n",
        "  newcolumnName = ''.join(i for i in colname if i not in bad_char)\n",
        "  newcolumnNames.append(newcolumnName)"
      ],
      "execution_count": null,
      "outputs": []
    },
    {
      "cell_type": "code",
      "metadata": {
        "id": "kpbdApX-8FSv"
      },
      "source": [
        "list(newcolumnNames)"
      ],
      "execution_count": null,
      "outputs": []
    },
    {
      "cell_type": "code",
      "metadata": {
        "id": "SpXMr4Lt5YH4"
      },
      "source": [
        "pd_data.columns = newcolumnNames"
      ],
      "execution_count": null,
      "outputs": []
    },
    {
      "cell_type": "code",
      "metadata": {
        "id": "_tl2BK8b5xGQ"
      },
      "source": [
        "pd_data.head()"
      ],
      "execution_count": null,
      "outputs": []
    },
    {
      "cell_type": "code",
      "metadata": {
        "id": "jmkSl8qj530b"
      },
      "source": [
        "pd_data.isnull().sum()"
      ],
      "execution_count": null,
      "outputs": []
    },
    {
      "cell_type": "code",
      "metadata": {
        "id": "ySwD2rvg58ry"
      },
      "source": [
        "%%time\n",
        "y.value_counts().plot.bar()"
      ],
      "execution_count": null,
      "outputs": []
    },
    {
      "cell_type": "code",
      "metadata": {
        "id": "lA-aGzXF6NAB"
      },
      "source": [
        "%%time\n",
        "pd_data.groupby('Activity').mean()['tBodyAccmeanX']"
      ],
      "execution_count": null,
      "outputs": []
    },
    {
      "cell_type": "code",
      "metadata": {
        "id": "2lvmSIIt8YqZ"
      },
      "source": [
        "%%time\n",
        "pd_data.groupby('Activity').mean()['tBodyAccstdX']"
      ],
      "execution_count": null,
      "outputs": []
    },
    {
      "cell_type": "code",
      "metadata": {
        "id": "d6gWIAmm8hf6"
      },
      "source": [
        "%%time\n",
        "sns.set_style('whitegrid')\n",
        "plt.rcParams['font.family'] = 'Dejavu Sans'\n",
        "plt.figure(figsize=(16,10))\n",
        "plt.title(\"Data collected per person\",fontsize = 15)\n",
        "sns.countplot(x = 'subject' , hue = 'Activity', data = pd_data)\n",
        "plt.show()"
      ],
      "execution_count": null,
      "outputs": []
    },
    {
      "cell_type": "code",
      "metadata": {
        "id": "c5ge39na8iyw"
      },
      "source": [
        "%%time\n",
        "facetgrid = sns.FacetGrid(pd_data, hue = 'Activity', size = 6 , aspect =2 )\n",
        "facetgrid.map(sns.distplot,'tBodyAccMagmean', hist = False).add_legend()\n",
        "plt.annotate(\"Stationary Activities\", xy = (-0.956, 15) , xytext = (-0.9,15), size = 15, \\\n",
        "             va = 'center', ha = 'left', \\\n",
        "             arrowprops = dict(arrowstyle ='simple', connectionstyle = 'arc3,rad = 0.1'))\n",
        "plt.annotate(\"Moving Activities\", xy = (0.0, 3) , xytext = (0.0,5), size = 15, \\\n",
        "             va = 'center', ha = 'left', \\\n",
        "             arrowprops = dict(arrowstyle ='simple', connectionstyle = 'arc3,rad = 0.1'))"
      ],
      "execution_count": null,
      "outputs": []
    },
    {
      "cell_type": "code",
      "metadata": {
        "id": "XWfsXMlM8zZ-"
      },
      "source": [
        "\n",
        "%%time\n",
        "facetgrid = sns.FacetGrid(pd_data, hue = 'Activity', size = 6 , aspect =2 )\n",
        "facetgrid.map(sns.distplot,'tBodyAccJerksma', hist = False).add_legend()\n",
        "plt.annotate(\"Stationary Activities\", xy = (-0.956, 15) , xytext = (-0.9,15), size = 15, \\\n",
        "             va = 'center', ha = 'left', \\\n",
        "             arrowprops = dict(arrowstyle ='simple', connectionstyle = 'arc3,rad = 0.1'))\n",
        "plt.annotate(\"Moving Activities\", xy = (0.0, 3) , xytext = (0.0,5), size = 15, \\\n",
        "             va = 'center', ha = 'left', \\\n",
        "             arrowprops = dict(arrowstyle ='simple', connectionstyle = 'arc3,rad = 0.1'))"
      ],
      "execution_count": null,
      "outputs": []
    },
    {
      "cell_type": "code",
      "metadata": {
        "id": "rnuoXvtb8_q1"
      },
      "source": [
        "%%time\n",
        "from sklearn.metrics import confusion_matrix, classification_report, accuracy_score"
      ],
      "execution_count": null,
      "outputs": []
    },
    {
      "cell_type": "code",
      "metadata": {
        "id": "VX6WP--P9Kiw"
      },
      "source": [
        "y = y.map({'STANDING': 0, 'SITTING': 1, 'LAYING': 2, 'WALKING' : 3, 'WALKING_DOWNSTAIRS': 4, 'WALKING_UPSTAIRS': 5})"
      ],
      "execution_count": null,
      "outputs": []
    },
    {
      "cell_type": "code",
      "metadata": {
        "id": "uCUOcKFB9OOk"
      },
      "source": [
        "y.unique()"
      ],
      "execution_count": null,
      "outputs": []
    },
    {
      "cell_type": "code",
      "metadata": {
        "id": "HHZD6aXW9R0c"
      },
      "source": [
        "print(y.shape , x.shape)"
      ],
      "execution_count": null,
      "outputs": []
    },
    {
      "cell_type": "code",
      "metadata": {
        "id": "oftowvnW9VS8"
      },
      "source": [
        "from sklearn.model_selection import train_test_split"
      ],
      "execution_count": null,
      "outputs": []
    },
    {
      "cell_type": "code",
      "metadata": {
        "id": "kueR7_L29bsd"
      },
      "source": [
        "%%time\n",
        "x_train, x_test, y_train, y_test = train_test_split(x,y, test_size = 0.2 , random_state = 10)"
      ],
      "execution_count": null,
      "outputs": []
    },
    {
      "cell_type": "code",
      "metadata": {
        "id": "QflfpKKr9hB0"
      },
      "source": [
        "print(x_train.shape, x_test.shape)"
      ],
      "execution_count": null,
      "outputs": []
    },
    {
      "cell_type": "code",
      "metadata": {
        "id": "3zD_Jtgk9lFp"
      },
      "source": [
        "%%time \n",
        "from sklearn.linear_model import LogisticRegression"
      ],
      "execution_count": null,
      "outputs": []
    },
    {
      "cell_type": "code",
      "metadata": {
        "id": "EoPuRChc9rSe"
      },
      "source": [
        "logreg = LogisticRegression(penalty = 'l2', solver = 'liblinear')"
      ],
      "execution_count": null,
      "outputs": []
    },
    {
      "cell_type": "code",
      "metadata": {
        "id": "wu9kgYTa9wZV"
      },
      "source": [
        "%%time\n",
        "logreg.fit(x_train,y_train)"
      ],
      "execution_count": null,
      "outputs": []
    },
    {
      "cell_type": "code",
      "metadata": {
        "id": "sCWcDIKp93Ui"
      },
      "source": [
        "%%time \n",
        "y_pred = logreg.predict(x_test)"
      ],
      "execution_count": null,
      "outputs": []
    },
    {
      "cell_type": "code",
      "metadata": {
        "id": "3es9fcTG96NY"
      },
      "source": [
        "y_pred[0:10]"
      ],
      "execution_count": null,
      "outputs": []
    },
    {
      "cell_type": "code",
      "metadata": {
        "id": "leezVQJJ96St"
      },
      "source": [
        "y_test[0:10]"
      ],
      "execution_count": null,
      "outputs": []
    },
    {
      "cell_type": "code",
      "metadata": {
        "id": "J6OJVfWk-Dxu"
      },
      "source": [
        "%%time\n",
        "accuracy_score(y_test,y_pred)"
      ],
      "execution_count": null,
      "outputs": []
    },
    {
      "cell_type": "code",
      "metadata": {
        "id": "cHbVLyl8-Igd"
      },
      "source": [
        "%%time\n",
        "print(classification_report(y_test,y_pred))"
      ],
      "execution_count": null,
      "outputs": []
    },
    {
      "cell_type": "code",
      "metadata": {
        "id": "vFCrPUq_-NHy"
      },
      "source": [
        "from sklearn.svm import SVC\n",
        "from sklearn.model_selection import GridSearchCV"
      ],
      "execution_count": null,
      "outputs": []
    },
    {
      "cell_type": "code",
      "metadata": {
        "id": "bOt2dh4A-Ud5"
      },
      "source": [
        "%%time\n",
        "parameters = {\n",
        "    'kernel' : ['linear','rbf'],\n",
        "    'degree' : [2,3]\n",
        "\n",
        "}"
      ],
      "execution_count": null,
      "outputs": []
    },
    {
      "cell_type": "code",
      "metadata": {
        "id": "eJmSthBC-YgS"
      },
      "source": [
        "%%time\n",
        "svclf = SVC(kernel= 'linear', gamma = 0.1)\n",
        "GridSVC = GridSearchCV(svclf, param_grid= parameters, n_jobs= -1)\n",
        "svclf.fit(x_train,y_train)\n"
      ],
      "execution_count": null,
      "outputs": []
    },
    {
      "cell_type": "code",
      "metadata": {
        "id": "xp8NU7r5-eEV"
      },
      "source": [
        "bestsvc = GridSVC.set_params"
      ],
      "execution_count": null,
      "outputs": []
    },
    {
      "cell_type": "code",
      "metadata": {
        "id": "-Tqds5TwDNMM"
      },
      "source": [
        "bestsvc().fit(x_train,y_train)"
      ],
      "execution_count": null,
      "outputs": []
    },
    {
      "cell_type": "code",
      "metadata": {
        "id": "bLzpkLPNAljb"
      },
      "source": [
        "%%time\n",
        "y_pred_svc = bestsvc().predict(x_test)"
      ],
      "execution_count": null,
      "outputs": []
    },
    {
      "cell_type": "code",
      "metadata": {
        "id": "_pJVlpbyBk3u"
      },
      "source": [
        "import cudf as gdf"
      ],
      "execution_count": null,
      "outputs": []
    },
    {
      "cell_type": "code",
      "metadata": {
        "id": "TPTYJRa0Btko"
      },
      "source": [
        "%%time\n",
        "gpu_train = gdf.read_csv('/content/drive/MyDrive/Human Activity Recognition/train.csv')\n",
        "gpu_test = gdf.read_csv('/content/drive/MyDrive/Human Activity Recognition/test.csv')"
      ],
      "execution_count": null,
      "outputs": []
    },
    {
      "cell_type": "code",
      "metadata": {
        "id": "eSejzeOWCNOH"
      },
      "source": [
        "!nvidia-smi"
      ],
      "execution_count": null,
      "outputs": []
    },
    {
      "cell_type": "code",
      "metadata": {
        "id": "owy4DBAgCXGG"
      },
      "source": [
        "from cuml.model_selection import train_test_split"
      ],
      "execution_count": null,
      "outputs": []
    },
    {
      "cell_type": "code",
      "metadata": {
        "id": "LvQ2aoyRCeIX"
      },
      "source": [
        "%%time\n",
        "gpu_data = gdf.concat([gpu_train,gpu_test])\n",
        "gpu_data.reset_index(inplace = True)\n",
        "gpu_data.drop('index',inplace = True , axis = 1)"
      ],
      "execution_count": null,
      "outputs": []
    },
    {
      "cell_type": "code",
      "metadata": {
        "id": "W4wTkjtgCmpu"
      },
      "source": [
        "!nvidia-smi"
      ],
      "execution_count": null,
      "outputs": []
    },
    {
      "cell_type": "code",
      "metadata": {
        "id": "mht5iQ2sCrsW"
      },
      "source": [
        "%%time\n",
        "\n",
        "gpu_data.groupby('Activity').mean()"
      ],
      "execution_count": null,
      "outputs": []
    },
    {
      "cell_type": "code",
      "metadata": {
        "id": "xMkfC8akCyJd"
      },
      "source": [
        "from cuml.preprocessing import LabelEncoder"
      ],
      "execution_count": null,
      "outputs": []
    },
    {
      "cell_type": "code",
      "metadata": {
        "id": "_F56pX5xC3ms"
      },
      "source": [
        "le  = LabelEncoder()"
      ],
      "execution_count": null,
      "outputs": []
    },
    {
      "cell_type": "code",
      "metadata": {
        "id": "dW4Urk3JC9Y2"
      },
      "source": [
        "%%time\n",
        "x_gpu = gpu_data.drop('Activity', inplace=False, axis=1)\n",
        "y_gpu = gpu_data['Activity'].copy()"
      ],
      "execution_count": null,
      "outputs": []
    },
    {
      "cell_type": "code",
      "metadata": {
        "id": "MCqD5OaEDA66"
      },
      "source": [
        "%%time\n",
        "le.fit(y_gpu)\n",
        "encodedLabels = le.transform(y_gpu)\n"
      ],
      "execution_count": null,
      "outputs": []
    },
    {
      "cell_type": "code",
      "metadata": {
        "id": "smYMBPruDXOf"
      },
      "source": [
        "y_gpu = y_gpu.map({'STANDING':0,'SITTING':1,'LAYING':2,'WALKING':3,'WALKING_DOWNSTAIRS':4, 'WALKING_UPSTAIRS':5})"
      ],
      "execution_count": null,
      "outputs": []
    },
    {
      "cell_type": "code",
      "metadata": {
        "id": "_ndb-gknDcyD"
      },
      "source": [
        "%%time \n",
        "x_train_gpu,x_test_gpu,y_train_gpu,y_test_gpu = train_test_split(x_gpu, y_gpu , test_size  = 0.2 , random_state = 12)\n"
      ],
      "execution_count": null,
      "outputs": []
    },
    {
      "cell_type": "code",
      "metadata": {
        "id": "7UIw4njJEM4h"
      },
      "source": [
        "import cupy as cup # here this is a replacement for numpy\n"
      ],
      "execution_count": null,
      "outputs": []
    },
    {
      "cell_type": "code",
      "metadata": {
        "id": "7pIvJxIoDxxD"
      },
      "source": [
        "cup.random.seed(10)\n",
        "y_pred_gpu = cup.random.randint(low = 0 , high = 8)"
      ],
      "execution_count": null,
      "outputs": []
    },
    {
      "cell_type": "code",
      "metadata": {
        "id": "OG9ZjDfREWpe"
      },
      "source": [
        "from cuml.linear_model import LogisticRegression"
      ],
      "execution_count": null,
      "outputs": []
    },
    {
      "cell_type": "code",
      "metadata": {
        "id": "-HeQQg8-EbnZ"
      },
      "source": [
        "%%time\n",
        "gpu_log = LogisticRegression(solver='qn')"
      ],
      "execution_count": null,
      "outputs": []
    },
    {
      "cell_type": "code",
      "metadata": {
        "id": "6HtvITXKEffn"
      },
      "source": [
        "%%time\n",
        "gpu_log.fit(x_train_gpu,y_train_gpu)"
      ],
      "execution_count": null,
      "outputs": []
    },
    {
      "cell_type": "code",
      "metadata": {
        "id": "wv5mHAHSElG1"
      },
      "source": [
        "%%time\n",
        "from cuml.svm import SVC \n",
        "from cuml.model_selection import GridSearchCV"
      ],
      "execution_count": null,
      "outputs": []
    },
    {
      "cell_type": "code",
      "metadata": {
        "id": "L-sxYihfEsfi"
      },
      "source": [
        "%%time\n",
        "parameters = {\n",
        "    'kernel' : ['linear','rbf'],\n",
        "    'degree' : [2,3]\n",
        "\n",
        "}"
      ],
      "execution_count": null,
      "outputs": []
    },
    {
      "cell_type": "code",
      "metadata": {
        "id": "m8XX5xj4ExFx"
      },
      "source": [
        "%%time\n",
        "svc_gpu  = SVC(kernel= 'linear',gamma=0.1)"
      ],
      "execution_count": null,
      "outputs": []
    },
    {
      "cell_type": "code",
      "metadata": {
        "id": "7mwS4p86E1Pr"
      },
      "source": [
        "%%time\n",
        "svc_gpu.fit(x_train_gpu,y_train_gpu)"
      ],
      "execution_count": null,
      "outputs": []
    },
    {
      "cell_type": "code",
      "metadata": {
        "id": "Xjzx9a4PE5mm"
      },
      "source": [
        "%%time\n",
        "y_pred_gpu = svc_gpu.predict(x_test_gpu)"
      ],
      "execution_count": null,
      "outputs": []
    },
    {
      "cell_type": "code",
      "metadata": {
        "id": "brJJvP6UFGZp"
      },
      "source": [
        "%%time\n",
        "y_pred_gpu_1 = gpu_log.predict(x_test_gpu)"
      ],
      "execution_count": null,
      "outputs": []
    },
    {
      "cell_type": "code",
      "metadata": {
        "id": "YOQsp2SVFLsh"
      },
      "source": [
        "from cuml.metrics import confusion_matrix, accuracy_score"
      ],
      "execution_count": null,
      "outputs": []
    },
    {
      "cell_type": "code",
      "metadata": {
        "id": "G-zoebcoFQpN"
      },
      "source": [
        "%%time\n",
        "confusion_matrix(y_test_gpu,y_pred_gpu)"
      ],
      "execution_count": null,
      "outputs": []
    },
    {
      "cell_type": "code",
      "metadata": {
        "id": "lsjR14IHGYp8"
      },
      "source": [
        "%%time\n",
        "confusion_matrix(y_test_gpu,y_pred_gpu_1)"
      ],
      "execution_count": null,
      "outputs": []
    },
    {
      "cell_type": "code",
      "metadata": {
        "id": "DLvgKyY4GiQg"
      },
      "source": [
        "%%time\n",
        "print(accuracy_score(y_test_gpu,y_pred_gpu))\n",
        "print(accuracy_score(y_test_gpu,y_pred_gpu_1))"
      ],
      "execution_count": null,
      "outputs": []
    },
    {
      "cell_type": "code",
      "metadata": {
        "id": "ePZX7OEsGoL3"
      },
      "source": [
        ""
      ],
      "execution_count": null,
      "outputs": []
    }
  ]
}