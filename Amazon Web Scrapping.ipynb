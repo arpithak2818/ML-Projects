{
 "cells": [
  {
   "cell_type": "markdown",
   "metadata": {},
   "source": [
    "### Install autoscrapper"
   ]
  },
  {
   "cell_type": "code",
   "execution_count": 1,
   "metadata": {},
   "outputs": [
    {
     "name": "stdout",
     "output_type": "stream",
     "text": [
      "Collecting autoscraper\n",
      "  Downloading autoscraper-1.1.12-py3-none-any.whl (10 kB)\n",
      "Requirement already satisfied: requests in c:\\users\\arpitha k\\anaconda python\\lib\\site-packages (from autoscraper) (2.24.0)\n",
      "Requirement already satisfied: lxml in c:\\users\\arpitha k\\anaconda python\\lib\\site-packages (from autoscraper) (4.6.1)\n",
      "Collecting bs4\n",
      "  Downloading bs4-0.0.1.tar.gz (1.1 kB)\n",
      "Requirement already satisfied: chardet<4,>=3.0.2 in c:\\users\\arpitha k\\anaconda python\\lib\\site-packages (from requests->autoscraper) (3.0.4)\n",
      "Requirement already satisfied: urllib3!=1.25.0,!=1.25.1,<1.26,>=1.21.1 in c:\\users\\arpitha k\\anaconda python\\lib\\site-packages (from requests->autoscraper) (1.25.11)\n",
      "Requirement already satisfied: idna<3,>=2.5 in c:\\users\\arpitha k\\anaconda python\\lib\\site-packages (from requests->autoscraper) (2.10)\n",
      "Requirement already satisfied: certifi>=2017.4.17 in c:\\users\\arpitha k\\anaconda python\\lib\\site-packages (from requests->autoscraper) (2020.6.20)\n",
      "Requirement already satisfied: beautifulsoup4 in c:\\users\\arpitha k\\anaconda python\\lib\\site-packages (from bs4->autoscraper) (4.9.3)\n",
      "Requirement already satisfied: soupsieve>1.2; python_version >= \"3.0\" in c:\\users\\arpitha k\\anaconda python\\lib\\site-packages (from beautifulsoup4->bs4->autoscraper) (2.0.1)\n",
      "Building wheels for collected packages: bs4\n",
      "  Building wheel for bs4 (setup.py): started\n",
      "  Building wheel for bs4 (setup.py): finished with status 'done'\n",
      "  Created wheel for bs4: filename=bs4-0.0.1-py3-none-any.whl size=1277 sha256=76a2e7ffd78d27a8f2fed1c7c0513c4d6d3a7dd9532cb4f4a9c3611783209b5b\n",
      "  Stored in directory: c:\\users\\arpitha k\\appdata\\local\\pip\\cache\\wheels\\75\\78\\21\\68b124549c9bdc94f822c02fb9aa3578a669843f9767776bca\n",
      "Successfully built bs4\n",
      "Installing collected packages: bs4, autoscraper\n",
      "Successfully installed autoscraper-1.1.12 bs4-0.0.1\n"
     ]
    }
   ],
   "source": [
    "!pip install autoscraper\n"
   ]
  },
  {
   "cell_type": "code",
   "execution_count": 7,
   "metadata": {},
   "outputs": [],
   "source": [
    "from autoscraper import AutoScraper"
   ]
  },
  {
   "cell_type": "code",
   "execution_count": 25,
   "metadata": {},
   "outputs": [],
   "source": [
    "amazon_url=\"https://www.amazon.in/s?k=iphones&ref=nb_sb_noss_2\"\n",
    "\n",
    "wanted_list=[\"₹59,900 \",\"New Apple iPhone 11 (128GB) - Purple\",\"27,654\"]"
   ]
  },
  {
   "cell_type": "code",
   "execution_count": 26,
   "metadata": {},
   "outputs": [
    {
     "name": "stdout",
     "output_type": "stream",
     "text": [
      "['₹46,999', '₹57,800', '₹51,999', '₹54,900', '₹61,900', '₹69,900', '₹80,650', '₹84,900', '₹64,900', '₹74,900', '₹58,100', '₹59,900', '₹1,24,700', '₹1,29,900', '₹92,900', '₹1,23,900', '₹60,900', '₹79,899', '₹1,17,100', '₹66,400', 'New Apple iPhone 11 (128GB) - Purple', 'New Apple iPhone 12 Mini (64GB) - Purple', '2,556', '27,654', '3,663', '2,576', '617', '862']\n"
     ]
    }
   ],
   "source": [
    "scraper=AutoScraper()\n",
    "result=scraper.build(amazon_url,wanted_list)\n",
    "print(result)"
   ]
  },
  {
   "cell_type": "code",
   "execution_count": 27,
   "metadata": {},
   "outputs": [
    {
     "data": {
      "text/plain": [
       "{'rule_4nvi': ['₹51,999',\n",
       "  '₹54,900',\n",
       "  '₹46,999',\n",
       "  '₹57,800',\n",
       "  '₹61,900',\n",
       "  '₹69,900',\n",
       "  '₹64,900',\n",
       "  '₹74,900',\n",
       "  '₹80,650',\n",
       "  '₹84,900',\n",
       "  '₹64,900',\n",
       "  '₹74,900',\n",
       "  '₹1,24,700',\n",
       "  '₹1,29,900',\n",
       "  '₹54,900',\n",
       "  '₹58,100',\n",
       "  '₹59,900',\n",
       "  '₹59,900',\n",
       "  '₹60,900',\n",
       "  '₹69,900',\n",
       "  '₹79,899',\n",
       "  '₹1,17,100',\n",
       "  '₹92,900',\n",
       "  '₹1,23,900',\n",
       "  '₹80,650',\n",
       "  '₹84,900',\n",
       "  '₹80,900',\n",
       "  '₹84,900'],\n",
       " 'rule_5c9v': ['₹51,999',\n",
       "  '₹54,900',\n",
       "  '₹46,999',\n",
       "  '₹57,800',\n",
       "  '₹61,900',\n",
       "  '₹69,900',\n",
       "  '₹64,900',\n",
       "  '₹74,900',\n",
       "  '₹80,650',\n",
       "  '₹84,900',\n",
       "  '₹64,900',\n",
       "  '₹74,900',\n",
       "  '₹1,24,700',\n",
       "  '₹1,29,900',\n",
       "  '₹54,900',\n",
       "  '₹58,100',\n",
       "  '₹59,900',\n",
       "  '₹59,900',\n",
       "  '₹60,900',\n",
       "  '₹69,900',\n",
       "  '₹79,899',\n",
       "  '₹1,17,100',\n",
       "  '₹92,900',\n",
       "  '₹1,23,900',\n",
       "  '₹80,650',\n",
       "  '₹84,900',\n",
       "  '₹80,900',\n",
       "  '₹84,900'],\n",
       " 'rule_k4at': ['₹51,999',\n",
       "  '₹54,900',\n",
       "  '₹46,999',\n",
       "  '₹57,800',\n",
       "  '₹61,900',\n",
       "  '₹69,900',\n",
       "  '₹64,900',\n",
       "  '₹74,900',\n",
       "  '₹80,650',\n",
       "  '₹84,900',\n",
       "  '₹64,900',\n",
       "  '₹74,900',\n",
       "  '₹1,24,700',\n",
       "  '₹1,29,900',\n",
       "  '₹54,900',\n",
       "  '₹58,100',\n",
       "  '₹59,900',\n",
       "  '₹59,900',\n",
       "  '₹60,900',\n",
       "  '₹69,900',\n",
       "  '₹79,899',\n",
       "  '₹1,17,100',\n",
       "  '₹92,900',\n",
       "  '₹1,23,900',\n",
       "  '₹80,650',\n",
       "  '₹84,900',\n",
       "  '₹80,900',\n",
       "  '₹84,900'],\n",
       " 'rule_9gq8': ['₹51,999',\n",
       "  '₹54,900',\n",
       "  '₹46,999',\n",
       "  '₹57,800',\n",
       "  '₹61,900',\n",
       "  '₹69,900',\n",
       "  '₹64,900',\n",
       "  '₹74,900',\n",
       "  '₹80,650',\n",
       "  '₹84,900',\n",
       "  '₹64,900',\n",
       "  '₹74,900',\n",
       "  '₹1,24,700',\n",
       "  '₹1,29,900',\n",
       "  '₹54,900',\n",
       "  '₹58,100',\n",
       "  '₹59,900',\n",
       "  '₹59,900',\n",
       "  '₹60,900',\n",
       "  '₹69,900',\n",
       "  '₹79,899',\n",
       "  '₹1,17,100',\n",
       "  '₹92,900',\n",
       "  '₹1,23,900',\n",
       "  '₹80,650',\n",
       "  '₹84,900',\n",
       "  '₹80,900',\n",
       "  '₹84,900'],\n",
       " 'rule_hr07': ['₹59,900'],\n",
       " 'rule_m3pb': ['₹59,900'],\n",
       " 'rule_a2ql': ['₹66,400', '₹69,900', '₹59,900'],\n",
       " 'rule_n8xt': ['₹66,400', '₹69,900', '₹59,900'],\n",
       " 'rule_kh9l': ['New Apple iPhone 11 (128GB) - Purple'],\n",
       " 'rule_u8j1': ['New Apple iPhone 11 (128GB) - Purple'],\n",
       " 'rule_pb2u': ['New Apple iPhone 12 Mini (64GB) - Purple',\n",
       "  'New Apple iPhone 11 (128GB) - Purple'],\n",
       " 'rule_qgv5': ['27,654',\n",
       "  '2,556',\n",
       "  '3,663',\n",
       "  '3,663',\n",
       "  '2,576',\n",
       "  '3,663',\n",
       "  '617',\n",
       "  '27,654',\n",
       "  '27,654',\n",
       "  '27,654',\n",
       "  '3,663',\n",
       "  '862',\n",
       "  '862',\n",
       "  '2,576',\n",
       "  '2,576'],\n",
       " 'rule_ca8h': ['27,654',\n",
       "  '2,556',\n",
       "  '3,663',\n",
       "  '3,663',\n",
       "  '2,576',\n",
       "  '3,663',\n",
       "  '617',\n",
       "  '27,654',\n",
       "  '27,654',\n",
       "  '27,654',\n",
       "  '3,663',\n",
       "  '862',\n",
       "  '862',\n",
       "  '2,576',\n",
       "  '2,576'],\n",
       " 'rule_fez8': ['27,654',\n",
       "  '2,556',\n",
       "  '3,663',\n",
       "  '3,663',\n",
       "  '2,576',\n",
       "  '3,663',\n",
       "  '617',\n",
       "  '27,654',\n",
       "  '27,654',\n",
       "  '27,654',\n",
       "  '3,663',\n",
       "  '862',\n",
       "  '862',\n",
       "  '2,576',\n",
       "  '2,576'],\n",
       " 'rule_j9ch': ['27,654'],\n",
       " 'rule_u1gq': ['27,654',\n",
       "  '2,556',\n",
       "  '3,663',\n",
       "  '3,663',\n",
       "  '2,576',\n",
       "  '3,663',\n",
       "  '617',\n",
       "  '27,654',\n",
       "  '27,654',\n",
       "  '27,654',\n",
       "  '3,663',\n",
       "  '862',\n",
       "  '862',\n",
       "  '2,576',\n",
       "  '2,576'],\n",
       " 'rule_bj83': ['3,663', '27,654']}"
      ]
     },
     "execution_count": 27,
     "metadata": {},
     "output_type": "execute_result"
    }
   ],
   "source": [
    "scraper.get_result_similar(amazon_url,grouped=True)"
   ]
  },
  {
   "cell_type": "code",
   "execution_count": 28,
   "metadata": {},
   "outputs": [],
   "source": [
    "scraper.set_rule_aliases({ 'rule_pb2u':'Title','rule_4nvi':'Price'})\n",
    "scraper.keep_rules(['rule_pb2u','rule_4nvi'])\n",
    "scraper.save('amazon-search')"
   ]
  },
  {
   "cell_type": "code",
   "execution_count": 29,
   "metadata": {},
   "outputs": [],
   "source": [
    "results=scraper.get_result_similar('https://www.amazon.in/s?k=MI+PHONES+UNDER+15000&ref=nb_sb_noss_2',group_by_alias=True)"
   ]
  },
  {
   "cell_type": "code",
   "execution_count": 30,
   "metadata": {},
   "outputs": [
    {
     "data": {
      "text/plain": [
       "['₹9,999',\n",
       " '₹10,999',\n",
       " '₹6,899',\n",
       " '₹6,999',\n",
       " '₹8,799',\n",
       " '₹10,999',\n",
       " '₹6,999',\n",
       " '₹8,499',\n",
       " '₹14,499',\n",
       " '₹17,999',\n",
       " '₹12,999',\n",
       " '₹16,999',\n",
       " '₹12,499',\n",
       " '₹15,999',\n",
       " '₹10,999',\n",
       " '₹14,999',\n",
       " '₹14,999',\n",
       " '₹18,999',\n",
       " '₹7,499',\n",
       " '₹9,499',\n",
       " '₹6,999',\n",
       " '₹8,499',\n",
       " '₹7,499',\n",
       " '₹14,499',\n",
       " '₹17,999',\n",
       " '₹8,799',\n",
       " '₹10,999',\n",
       " '₹14,999',\n",
       " '₹19,999']"
      ]
     },
     "execution_count": 30,
     "metadata": {},
     "output_type": "execute_result"
    }
   ],
   "source": [
    "results['Price']"
   ]
  },
  {
   "cell_type": "code",
   "execution_count": null,
   "metadata": {},
   "outputs": [],
   "source": []
  }
 ],
 "metadata": {
  "kernelspec": {
   "display_name": "Python 3",
   "language": "python",
   "name": "python3"
  },
  "language_info": {
   "codemirror_mode": {
    "name": "ipython",
    "version": 3
   },
   "file_extension": ".py",
   "mimetype": "text/x-python",
   "name": "python",
   "nbconvert_exporter": "python",
   "pygments_lexer": "ipython3",
   "version": "3.8.5"
  }
 },
 "nbformat": 4,
 "nbformat_minor": 4
}
