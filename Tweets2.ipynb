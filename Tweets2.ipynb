{
  "nbformat": 4,
  "nbformat_minor": 0,
  "metadata": {
    "colab": {
      "name": "Tweets2.ipynb",
      "provenance": [],
      "collapsed_sections": [],
      "mount_file_id": "1oHzC6EhG8MT4HNz5UaROWvftsZ8u5kjG",
      "authorship_tag": "ABX9TyOEs5aL0NRCl8vvleClZj+n",
      "include_colab_link": true
    },
    "kernelspec": {
      "display_name": "Python 3",
      "name": "python3"
    },
    "language_info": {
      "name": "python"
    },
    "accelerator": "GPU"
  },
  "cells": [
    {
      "cell_type": "markdown",
      "metadata": {
        "id": "view-in-github",
        "colab_type": "text"
      },
      "source": [
        "<a href=\"https://colab.research.google.com/github/arpithak2818/ML-Projects/blob/main/Tweets2.ipynb\" target=\"_parent\"><img src=\"https://colab.research.google.com/assets/colab-badge.svg\" alt=\"Open In Colab\"/></a>"
      ]
    },
    {
      "cell_type": "code",
      "metadata": {
        "id": "adlZbkAGitip"
      },
      "source": [
        "#importing the dependencies\n",
        "import pandas as pd\n",
        "import numpy as np\n",
        "import matplotlib.pyplot as plt\n",
        "import tensorflow as tf\n",
        "from tensorflow.keras.preprocessing.text import Tokenizer\n",
        "from tensorflow.keras.models import Sequential\n",
        "from tensorflow.keras.layers import Dense,LSTM,Embedding\n",
        "from sklearn.model_selection import train_test_split\n",
        "from tensorflow.keras.preprocessing.sequence import pad_sequences\n",
        "import re"
      ],
      "execution_count": null,
      "outputs": []
    },
    {
      "cell_type": "code",
      "metadata": {
        "id": "WrKMF-vkjoSP"
      },
      "source": [
        "#loading the dataset\n",
        "dataset=pd.read_csv(\"/content/drive/MyDrive/DL codes/tweets.csv\")"
      ],
      "execution_count": null,
      "outputs": []
    },
    {
      "cell_type": "code",
      "metadata": {
        "colab": {
          "base_uri": "https://localhost:8080/",
          "height": 434
        },
        "id": "4q8AprrHjzPp",
        "outputId": "f6effe33-73f1-4c06-cd66-928742ca5930"
      },
      "source": [
        "#checking top 5 documents\n",
        "dataset.head()"
      ],
      "execution_count": null,
      "outputs": [
        {
          "output_type": "execute_result",
          "data": {
            "text/html": [
              "<div>\n",
              "<style scoped>\n",
              "    .dataframe tbody tr th:only-of-type {\n",
              "        vertical-align: middle;\n",
              "    }\n",
              "\n",
              "    .dataframe tbody tr th {\n",
              "        vertical-align: top;\n",
              "    }\n",
              "\n",
              "    .dataframe thead th {\n",
              "        text-align: right;\n",
              "    }\n",
              "</style>\n",
              "<table border=\"1\" class=\"dataframe\">\n",
              "  <thead>\n",
              "    <tr style=\"text-align: right;\">\n",
              "      <th></th>\n",
              "      <th>tweet_id</th>\n",
              "      <th>airline_sentiment</th>\n",
              "      <th>airline_sentiment_confidence</th>\n",
              "      <th>negativereason</th>\n",
              "      <th>negativereason_confidence</th>\n",
              "      <th>airline</th>\n",
              "      <th>name</th>\n",
              "      <th>retweet_count</th>\n",
              "      <th>text</th>\n",
              "      <th>tweet_created</th>\n",
              "      <th>latitude</th>\n",
              "      <th>longitude</th>\n",
              "    </tr>\n",
              "  </thead>\n",
              "  <tbody>\n",
              "    <tr>\n",
              "      <th>0</th>\n",
              "      <td>5.700000e+17</td>\n",
              "      <td>neutral</td>\n",
              "      <td>1.0000</td>\n",
              "      <td>NaN</td>\n",
              "      <td>NaN</td>\n",
              "      <td>Virgin America</td>\n",
              "      <td>cairdin</td>\n",
              "      <td>0</td>\n",
              "      <td>@VirginAmerica What @dhepburn said.</td>\n",
              "      <td>2015-02-24 11:35:52 -0800</td>\n",
              "      <td>35.888455</td>\n",
              "      <td>-119.273781</td>\n",
              "    </tr>\n",
              "    <tr>\n",
              "      <th>1</th>\n",
              "      <td>5.700000e+17</td>\n",
              "      <td>positive</td>\n",
              "      <td>0.3486</td>\n",
              "      <td>NaN</td>\n",
              "      <td>0.0000</td>\n",
              "      <td>Virgin America</td>\n",
              "      <td>jnardino</td>\n",
              "      <td>0</td>\n",
              "      <td>@VirginAmerica plus you've added commercials t...</td>\n",
              "      <td>2015-02-24 11:15:59 -0800</td>\n",
              "      <td>37.770971</td>\n",
              "      <td>-119.941025</td>\n",
              "    </tr>\n",
              "    <tr>\n",
              "      <th>2</th>\n",
              "      <td>5.700000e+17</td>\n",
              "      <td>neutral</td>\n",
              "      <td>0.6837</td>\n",
              "      <td>NaN</td>\n",
              "      <td>NaN</td>\n",
              "      <td>Virgin America</td>\n",
              "      <td>yvonnalynn</td>\n",
              "      <td>0</td>\n",
              "      <td>@VirginAmerica I didn't today... Must mean I n...</td>\n",
              "      <td>2015-02-24 11:15:48 -0800</td>\n",
              "      <td>35.684863</td>\n",
              "      <td>-119.709299</td>\n",
              "    </tr>\n",
              "    <tr>\n",
              "      <th>3</th>\n",
              "      <td>5.700000e+17</td>\n",
              "      <td>negative</td>\n",
              "      <td>1.0000</td>\n",
              "      <td>Bad Flight</td>\n",
              "      <td>0.7033</td>\n",
              "      <td>Virgin America</td>\n",
              "      <td>jnardino</td>\n",
              "      <td>0</td>\n",
              "      <td>@VirginAmerica it's really aggressive to blast...</td>\n",
              "      <td>2015-02-24 11:15:36 -0800</td>\n",
              "      <td>37.061159</td>\n",
              "      <td>-119.279135</td>\n",
              "    </tr>\n",
              "    <tr>\n",
              "      <th>4</th>\n",
              "      <td>5.700000e+17</td>\n",
              "      <td>negative</td>\n",
              "      <td>1.0000</td>\n",
              "      <td>Can't Tell</td>\n",
              "      <td>1.0000</td>\n",
              "      <td>Virgin America</td>\n",
              "      <td>jnardino</td>\n",
              "      <td>0</td>\n",
              "      <td>@VirginAmerica and it's a really big bad thing...</td>\n",
              "      <td>2015-02-24 11:14:45 -0800</td>\n",
              "      <td>36.790587</td>\n",
              "      <td>-120.867752</td>\n",
              "    </tr>\n",
              "  </tbody>\n",
              "</table>\n",
              "</div>"
            ],
            "text/plain": [
              "       tweet_id airline_sentiment  ...   latitude   longitude\n",
              "0  5.700000e+17           neutral  ...  35.888455 -119.273781\n",
              "1  5.700000e+17          positive  ...  37.770971 -119.941025\n",
              "2  5.700000e+17           neutral  ...  35.684863 -119.709299\n",
              "3  5.700000e+17          negative  ...  37.061159 -119.279135\n",
              "4  5.700000e+17          negative  ...  36.790587 -120.867752\n",
              "\n",
              "[5 rows x 12 columns]"
            ]
          },
          "metadata": {
            "tags": []
          },
          "execution_count": 28
        }
      ]
    },
    {
      "cell_type": "code",
      "metadata": {
        "colab": {
          "base_uri": "https://localhost:8080/"
        },
        "id": "O7ywlkopj9WJ",
        "outputId": "f08bdd20-9ec1-46b6-945c-c0a358c96d79"
      },
      "source": [
        "#to check which airlines reviews we have received\n",
        "dataset['airline'].unique()"
      ],
      "execution_count": null,
      "outputs": [
        {
          "output_type": "execute_result",
          "data": {
            "text/plain": [
              "array(['Virgin America', 'United', 'Southwest', 'Delta', 'US Airways',\n",
              "       'American'], dtype=object)"
            ]
          },
          "metadata": {
            "tags": []
          },
          "execution_count": 29
        }
      ]
    },
    {
      "cell_type": "code",
      "metadata": {
        "colab": {
          "base_uri": "https://localhost:8080/"
        },
        "id": "m5wFIrWOkChx",
        "outputId": "07c6ec8a-1321-4996-9fda-b0b66aa71871"
      },
      "source": [
        "#what are the sentiment or labels to predict\n",
        "dataset['airline_sentiment'].unique()"
      ],
      "execution_count": null,
      "outputs": [
        {
          "output_type": "execute_result",
          "data": {
            "text/plain": [
              "array(['neutral', 'positive', 'negative'], dtype=object)"
            ]
          },
          "metadata": {
            "tags": []
          },
          "execution_count": 30
        }
      ]
    },
    {
      "cell_type": "code",
      "metadata": {
        "colab": {
          "base_uri": "https://localhost:8080/"
        },
        "id": "sYN0Kz00kIKG",
        "outputId": "d0f76fcb-e9f7-48f0-a0eb-f83149f8a451"
      },
      "source": [
        "#checking for the null values\n",
        "dataset.isnull().sum()"
      ],
      "execution_count": null,
      "outputs": [
        {
          "output_type": "execute_result",
          "data": {
            "text/plain": [
              "tweet_id                           0\n",
              "airline_sentiment                  0\n",
              "airline_sentiment_confidence       0\n",
              "negativereason                  5462\n",
              "negativereason_confidence       4118\n",
              "airline                            0\n",
              "name                               0\n",
              "retweet_count                      0\n",
              "text                               0\n",
              "tweet_created                      0\n",
              "latitude                           0\n",
              "longitude                          0\n",
              "dtype: int64"
            ]
          },
          "metadata": {
            "tags": []
          },
          "execution_count": 31
        }
      ]
    },
    {
      "cell_type": "code",
      "metadata": {
        "id": "ovmBK2n9kNfA"
      },
      "source": [
        "#creating a new dataframe with only 2 columns the review and the respected sentiment\n",
        "data = dataset[[\"text\",\"airline_sentiment\"]]"
      ],
      "execution_count": null,
      "outputs": []
    },
    {
      "cell_type": "code",
      "metadata": {
        "colab": {
          "base_uri": "https://localhost:8080/",
          "height": 195
        },
        "id": "_rUJTrlpkVF2",
        "outputId": "ea3f51b3-ff5c-4810-92f7-749e32ff2a11"
      },
      "source": [
        "#new dataframe\n",
        "data.head()"
      ],
      "execution_count": null,
      "outputs": [
        {
          "output_type": "execute_result",
          "data": {
            "text/html": [
              "<div>\n",
              "<style scoped>\n",
              "    .dataframe tbody tr th:only-of-type {\n",
              "        vertical-align: middle;\n",
              "    }\n",
              "\n",
              "    .dataframe tbody tr th {\n",
              "        vertical-align: top;\n",
              "    }\n",
              "\n",
              "    .dataframe thead th {\n",
              "        text-align: right;\n",
              "    }\n",
              "</style>\n",
              "<table border=\"1\" class=\"dataframe\">\n",
              "  <thead>\n",
              "    <tr style=\"text-align: right;\">\n",
              "      <th></th>\n",
              "      <th>text</th>\n",
              "      <th>airline_sentiment</th>\n",
              "    </tr>\n",
              "  </thead>\n",
              "  <tbody>\n",
              "    <tr>\n",
              "      <th>0</th>\n",
              "      <td>@VirginAmerica What @dhepburn said.</td>\n",
              "      <td>neutral</td>\n",
              "    </tr>\n",
              "    <tr>\n",
              "      <th>1</th>\n",
              "      <td>@VirginAmerica plus you've added commercials t...</td>\n",
              "      <td>positive</td>\n",
              "    </tr>\n",
              "    <tr>\n",
              "      <th>2</th>\n",
              "      <td>@VirginAmerica I didn't today... Must mean I n...</td>\n",
              "      <td>neutral</td>\n",
              "    </tr>\n",
              "    <tr>\n",
              "      <th>3</th>\n",
              "      <td>@VirginAmerica it's really aggressive to blast...</td>\n",
              "      <td>negative</td>\n",
              "    </tr>\n",
              "    <tr>\n",
              "      <th>4</th>\n",
              "      <td>@VirginAmerica and it's a really big bad thing...</td>\n",
              "      <td>negative</td>\n",
              "    </tr>\n",
              "  </tbody>\n",
              "</table>\n",
              "</div>"
            ],
            "text/plain": [
              "                                                text airline_sentiment\n",
              "0                @VirginAmerica What @dhepburn said.           neutral\n",
              "1  @VirginAmerica plus you've added commercials t...          positive\n",
              "2  @VirginAmerica I didn't today... Must mean I n...           neutral\n",
              "3  @VirginAmerica it's really aggressive to blast...          negative\n",
              "4  @VirginAmerica and it's a really big bad thing...          negative"
            ]
          },
          "metadata": {
            "tags": []
          },
          "execution_count": 33
        }
      ]
    },
    {
      "cell_type": "code",
      "metadata": {
        "id": "thJJoU7Nk1bB"
      },
      "source": [
        "#removing all the rows where ever the sentiment is neutral want to work with positive and negative reviews\n",
        "dataset=data[data.airline_sentiment!='neutral']"
      ],
      "execution_count": null,
      "outputs": []
    },
    {
      "cell_type": "code",
      "metadata": {
        "colab": {
          "base_uri": "https://localhost:8080/",
          "height": 195
        },
        "id": "d3qblFLWk6GE",
        "outputId": "52fc8423-c940-4820-af96-392d20ceca99"
      },
      "source": [
        "dataset.head()"
      ],
      "execution_count": null,
      "outputs": [
        {
          "output_type": "execute_result",
          "data": {
            "text/html": [
              "<div>\n",
              "<style scoped>\n",
              "    .dataframe tbody tr th:only-of-type {\n",
              "        vertical-align: middle;\n",
              "    }\n",
              "\n",
              "    .dataframe tbody tr th {\n",
              "        vertical-align: top;\n",
              "    }\n",
              "\n",
              "    .dataframe thead th {\n",
              "        text-align: right;\n",
              "    }\n",
              "</style>\n",
              "<table border=\"1\" class=\"dataframe\">\n",
              "  <thead>\n",
              "    <tr style=\"text-align: right;\">\n",
              "      <th></th>\n",
              "      <th>text</th>\n",
              "      <th>airline_sentiment</th>\n",
              "    </tr>\n",
              "  </thead>\n",
              "  <tbody>\n",
              "    <tr>\n",
              "      <th>1</th>\n",
              "      <td>@VirginAmerica plus you've added commercials t...</td>\n",
              "      <td>positive</td>\n",
              "    </tr>\n",
              "    <tr>\n",
              "      <th>3</th>\n",
              "      <td>@VirginAmerica it's really aggressive to blast...</td>\n",
              "      <td>negative</td>\n",
              "    </tr>\n",
              "    <tr>\n",
              "      <th>4</th>\n",
              "      <td>@VirginAmerica and it's a really big bad thing...</td>\n",
              "      <td>negative</td>\n",
              "    </tr>\n",
              "    <tr>\n",
              "      <th>5</th>\n",
              "      <td>@VirginAmerica seriously would pay $30 a fligh...</td>\n",
              "      <td>negative</td>\n",
              "    </tr>\n",
              "    <tr>\n",
              "      <th>6</th>\n",
              "      <td>@VirginAmerica yes, nearly every time I fly VX...</td>\n",
              "      <td>positive</td>\n",
              "    </tr>\n",
              "  </tbody>\n",
              "</table>\n",
              "</div>"
            ],
            "text/plain": [
              "                                                text airline_sentiment\n",
              "1  @VirginAmerica plus you've added commercials t...          positive\n",
              "3  @VirginAmerica it's really aggressive to blast...          negative\n",
              "4  @VirginAmerica and it's a really big bad thing...          negative\n",
              "5  @VirginAmerica seriously would pay $30 a fligh...          negative\n",
              "6  @VirginAmerica yes, nearly every time I fly VX...          positive"
            ]
          },
          "metadata": {
            "tags": []
          },
          "execution_count": 35
        }
      ]
    },
    {
      "cell_type": "code",
      "metadata": {
        "colab": {
          "base_uri": "https://localhost:8080/"
        },
        "id": "gzBUXqnYlvZm",
        "outputId": "166820b1-a72e-4908-927e-623e29670afc"
      },
      "source": [
        "dataset.airline_sentiment.unique()"
      ],
      "execution_count": null,
      "outputs": [
        {
          "output_type": "execute_result",
          "data": {
            "text/plain": [
              "array(['positive', 'negative'], dtype=object)"
            ]
          },
          "metadata": {
            "tags": []
          },
          "execution_count": 36
        }
      ]
    },
    {
      "cell_type": "code",
      "metadata": {
        "colab": {
          "base_uri": "https://localhost:8080/",
          "height": 35
        },
        "id": "hgbczNpEl25g",
        "outputId": "f3abab74-eaac-45cc-b6aa-538203552f33"
      },
      "source": [
        "dataset['text'][3]"
      ],
      "execution_count": null,
      "outputs": [
        {
          "output_type": "execute_result",
          "data": {
            "application/vnd.google.colaboratory.intrinsic+json": {
              "type": "string"
            },
            "text/plain": [
              "'@VirginAmerica it\\'s really aggressive to blast obnoxious \"entertainment\" in your guests\\' faces &amp; they have little recourse'"
            ]
          },
          "metadata": {
            "tags": []
          },
          "execution_count": 37
        }
      ]
    },
    {
      "cell_type": "code",
      "metadata": {
        "id": "qIfKnpQOl8cC"
      },
      "source": [
        "import nltk\n",
        "from nltk.corpus import stopwords"
      ],
      "execution_count": null,
      "outputs": []
    },
    {
      "cell_type": "code",
      "metadata": {
        "colab": {
          "base_uri": "https://localhost:8080/"
        },
        "id": "DFSyzO_LmDoV",
        "outputId": "563539c4-3b40-4287-9c1c-c0eafc84e2e7"
      },
      "source": [
        "nltk.download('stopwords')"
      ],
      "execution_count": null,
      "outputs": [
        {
          "output_type": "stream",
          "text": [
            "[nltk_data] Downloading package stopwords to /root/nltk_data...\n",
            "[nltk_data]   Package stopwords is already up-to-date!\n"
          ],
          "name": "stdout"
        },
        {
          "output_type": "execute_result",
          "data": {
            "text/plain": [
              "True"
            ]
          },
          "metadata": {
            "tags": []
          },
          "execution_count": 39
        }
      ]
    },
    {
      "cell_type": "code",
      "metadata": {
        "colab": {
          "base_uri": "https://localhost:8080/"
        },
        "id": "b03PkPwomKN2",
        "outputId": "a47c367e-c6e0-48b9-e167-54642a347a8e"
      },
      "source": [
        "#checking what all words are considered as stopwords\n",
        "print(stopwords.words(\"english\"))"
      ],
      "execution_count": null,
      "outputs": [
        {
          "output_type": "stream",
          "text": [
            "['i', 'me', 'my', 'myself', 'we', 'our', 'ours', 'ourselves', 'you', \"you're\", \"you've\", \"you'll\", \"you'd\", 'your', 'yours', 'yourself', 'yourselves', 'he', 'him', 'his', 'himself', 'she', \"she's\", 'her', 'hers', 'herself', 'it', \"it's\", 'its', 'itself', 'they', 'them', 'their', 'theirs', 'themselves', 'what', 'which', 'who', 'whom', 'this', 'that', \"that'll\", 'these', 'those', 'am', 'is', 'are', 'was', 'were', 'be', 'been', 'being', 'have', 'has', 'had', 'having', 'do', 'does', 'did', 'doing', 'a', 'an', 'the', 'and', 'but', 'if', 'or', 'because', 'as', 'until', 'while', 'of', 'at', 'by', 'for', 'with', 'about', 'against', 'between', 'into', 'through', 'during', 'before', 'after', 'above', 'below', 'to', 'from', 'up', 'down', 'in', 'out', 'on', 'off', 'over', 'under', 'again', 'further', 'then', 'once', 'here', 'there', 'when', 'where', 'why', 'how', 'all', 'any', 'both', 'each', 'few', 'more', 'most', 'other', 'some', 'such', 'no', 'nor', 'not', 'only', 'own', 'same', 'so', 'than', 'too', 'very', 's', 't', 'can', 'will', 'just', 'don', \"don't\", 'should', \"should've\", 'now', 'd', 'll', 'm', 'o', 're', 've', 'y', 'ain', 'aren', \"aren't\", 'couldn', \"couldn't\", 'didn', \"didn't\", 'doesn', \"doesn't\", 'hadn', \"hadn't\", 'hasn', \"hasn't\", 'haven', \"haven't\", 'isn', \"isn't\", 'ma', 'mightn', \"mightn't\", 'mustn', \"mustn't\", 'needn', \"needn't\", 'shan', \"shan't\", 'shouldn', \"shouldn't\", 'wasn', \"wasn't\", 'weren', \"weren't\", 'won', \"won't\", 'wouldn', \"wouldn't\"]\n"
          ],
          "name": "stdout"
        }
      ]
    },
    {
      "cell_type": "code",
      "metadata": {
        "colab": {
          "base_uri": "https://localhost:8080/"
        },
        "id": "OpyqsO29o9er",
        "outputId": "92a403d7-098e-4479-87f3-93a9b7852e5c"
      },
      "source": [
        "dataset.info"
      ],
      "execution_count": null,
      "outputs": [
        {
          "output_type": "execute_result",
          "data": {
            "text/plain": [
              "<bound method DataFrame.info of                                                     text airline_sentiment\n",
              "1      @VirginAmerica plus you've added commercials t...          positive\n",
              "3      @VirginAmerica it's really aggressive to blast...          negative\n",
              "4      @VirginAmerica and it's a really big bad thing...          negative\n",
              "5      @VirginAmerica seriously would pay $30 a fligh...          negative\n",
              "6      @VirginAmerica yes, nearly every time I fly VX...          positive\n",
              "...                                                  ...               ...\n",
              "14633  @AmericanAir my flight was Cancelled Flightled...          negative\n",
              "14634         @AmericanAir right on cue with the delays👌          negative\n",
              "14635  @AmericanAir thank you we got on a different f...          positive\n",
              "14636  @AmericanAir leaving over 20 minutes Late Flig...          negative\n",
              "14638  @AmericanAir you have my money, you change my ...          negative\n",
              "\n",
              "[11541 rows x 2 columns]>"
            ]
          },
          "metadata": {
            "tags": []
          },
          "execution_count": 41
        }
      ]
    },
    {
      "cell_type": "code",
      "metadata": {
        "colab": {
          "base_uri": "https://localhost:8080/"
        },
        "id": "1FyPrFtVpBre",
        "outputId": "dd7370d1-dca2-46ec-98cb-5b7c241621dd"
      },
      "source": [
        "#converting all the text to lower case\n",
        "dataset['text']=dataset['text'].apply(lambda x:x.lower())"
      ],
      "execution_count": null,
      "outputs": [
        {
          "output_type": "stream",
          "text": [
            "/usr/local/lib/python3.7/dist-packages/ipykernel_launcher.py:2: SettingWithCopyWarning: \n",
            "A value is trying to be set on a copy of a slice from a DataFrame.\n",
            "Try using .loc[row_indexer,col_indexer] = value instead\n",
            "\n",
            "See the caveats in the documentation: https://pandas.pydata.org/pandas-docs/stable/user_guide/indexing.html#returning-a-view-versus-a-copy\n",
            "  \n"
          ],
          "name": "stderr"
        }
      ]
    },
    {
      "cell_type": "code",
      "metadata": {
        "colab": {
          "base_uri": "https://localhost:8080/"
        },
        "id": "CnvZiyLnpRf6",
        "outputId": "b15119f8-25cf-49df-a80b-5af0db83bfcf"
      },
      "source": [
        "print(dataset['text'].iloc[3])"
      ],
      "execution_count": null,
      "outputs": [
        {
          "output_type": "stream",
          "text": [
            "@virginamerica seriously would pay $30 a flight for seats that didn't have this playing.\n",
            "it's really the only bad thing about flying va\n"
          ],
          "name": "stdout"
        }
      ]
    },
    {
      "cell_type": "code",
      "metadata": {
        "colab": {
          "base_uri": "https://localhost:8080/"
        },
        "id": "99dwJ6oEpaFt",
        "outputId": "58b3f37c-07bd-4bf7-a52e-2e0112b9b0df"
      },
      "source": [
        "#removing all the punctuations and symbols\n",
        "dataset['text'] = dataset['text'].apply(lambda x: re.sub('[^a-zA-Z0-9\\s]','',x))"
      ],
      "execution_count": null,
      "outputs": [
        {
          "output_type": "stream",
          "text": [
            "/usr/local/lib/python3.7/dist-packages/ipykernel_launcher.py:2: SettingWithCopyWarning: \n",
            "A value is trying to be set on a copy of a slice from a DataFrame.\n",
            "Try using .loc[row_indexer,col_indexer] = value instead\n",
            "\n",
            "See the caveats in the documentation: https://pandas.pydata.org/pandas-docs/stable/user_guide/indexing.html#returning-a-view-versus-a-copy\n",
            "  \n"
          ],
          "name": "stderr"
        }
      ]
    },
    {
      "cell_type": "code",
      "metadata": {
        "colab": {
          "base_uri": "https://localhost:8080/"
        },
        "id": "ZqKSRj64p4WK",
        "outputId": "aaf552bc-f87d-4d6a-9a12-3d4a50344e41"
      },
      "source": [
        "print(dataset['text'].iloc[3])"
      ],
      "execution_count": null,
      "outputs": [
        {
          "output_type": "stream",
          "text": [
            "virginamerica seriously would pay 30 a flight for seats that didnt have this playing\n",
            "its really the only bad thing about flying va\n"
          ],
          "name": "stdout"
        }
      ]
    },
    {
      "cell_type": "code",
      "metadata": {
        "colab": {
          "base_uri": "https://localhost:8080/"
        },
        "id": "7hVfLKPXrQnD",
        "outputId": "c6e176f1-d7ce-432c-9fda-6c61a7e29e99"
      },
      "source": [
        "dataset.shape"
      ],
      "execution_count": null,
      "outputs": [
        {
          "output_type": "execute_result",
          "data": {
            "text/plain": [
              "(11541, 2)"
            ]
          },
          "metadata": {
            "tags": []
          },
          "execution_count": 46
        }
      ]
    },
    {
      "cell_type": "code",
      "metadata": {
        "id": "Y2zHKi46rc9J"
      },
      "source": [
        "#loading the stopwords\n",
        "stop_words=set(stopwords.words(\"english\"))"
      ],
      "execution_count": null,
      "outputs": []
    },
    {
      "cell_type": "code",
      "metadata": {
        "colab": {
          "base_uri": "https://localhost:8080/"
        },
        "id": "vZwnv7Mzrphj",
        "outputId": "48505570-20d6-402f-d545-9fd9094ba251"
      },
      "source": [
        "#removing the stop words from the corpus\n",
        "dataset['text']=dataset['text'].apply(lambda x:' '.join([word for word in x.split() if word not in (stop_words)]))"
      ],
      "execution_count": null,
      "outputs": [
        {
          "output_type": "stream",
          "text": [
            "/usr/local/lib/python3.7/dist-packages/ipykernel_launcher.py:2: SettingWithCopyWarning: \n",
            "A value is trying to be set on a copy of a slice from a DataFrame.\n",
            "Try using .loc[row_indexer,col_indexer] = value instead\n",
            "\n",
            "See the caveats in the documentation: https://pandas.pydata.org/pandas-docs/stable/user_guide/indexing.html#returning-a-view-versus-a-copy\n",
            "  \n"
          ],
          "name": "stderr"
        }
      ]
    },
    {
      "cell_type": "code",
      "metadata": {
        "colab": {
          "base_uri": "https://localhost:8080/"
        },
        "id": "8j74sj0gsJKM",
        "outputId": "0c800303-b66f-4447-a9b7-673890d67a6a"
      },
      "source": [
        "print(dataset['text'].iloc[3])"
      ],
      "execution_count": null,
      "outputs": [
        {
          "output_type": "stream",
          "text": [
            "virginamerica seriously would pay 30 flight seats didnt playing really bad thing flying va\n"
          ],
          "name": "stdout"
        }
      ]
    },
    {
      "cell_type": "code",
      "metadata": {
        "id": "_K_d-vJPsRUX"
      },
      "source": [
        "#tokenizing our document\n",
        "max_features=2000\n",
        "tokenizer=Tokenizer(num_words=max_features,split=' ')\n",
        "tokenizer.fit_on_texts(dataset['text'].values)"
      ],
      "execution_count": null,
      "outputs": []
    },
    {
      "cell_type": "code",
      "metadata": {
        "colab": {
          "base_uri": "https://localhost:8080/"
        },
        "id": "p960Qr7IsxRu",
        "outputId": "57a59916-8f36-42b1-8c06-05fb959052a8"
      },
      "source": [
        "print(dataset['text'].iloc[3])"
      ],
      "execution_count": null,
      "outputs": [
        {
          "output_type": "stream",
          "text": [
            "virginamerica seriously would pay 30 flight seats didnt playing really bad thing flying va\n"
          ],
          "name": "stdout"
        }
      ]
    },
    {
      "cell_type": "code",
      "metadata": {
        "id": "mtz9KxbHs4WZ"
      },
      "source": [
        "#converting our tokens or text to sequences\n",
        "seq=tokenizer.texts_to_sequences(dataset['text'].values)"
      ],
      "execution_count": null,
      "outputs": []
    },
    {
      "cell_type": "code",
      "metadata": {
        "colab": {
          "base_uri": "https://localhost:8080/"
        },
        "id": "xNizdXJ2tQv_",
        "outputId": "1f09f07e-a239-4f30-e692-1342d294028c"
      },
      "source": [
        "len(seq[3])"
      ],
      "execution_count": null,
      "outputs": [
        {
          "output_type": "execute_result",
          "data": {
            "text/plain": [
              "14"
            ]
          },
          "metadata": {
            "tags": []
          },
          "execution_count": 53
        }
      ]
    },
    {
      "cell_type": "code",
      "metadata": {
        "colab": {
          "base_uri": "https://localhost:8080/"
        },
        "id": "l_bw5u-5tVcv",
        "outputId": "93fdf8e4-07d5-4263-dd9b-72fc2484e862"
      },
      "source": [
        "print(seq[3])"
      ],
      "execution_count": null,
      "outputs": [
        {
          "output_type": "stream",
          "text": [
            "[43, 283, 34, 185, 186, 2, 121, 104, 1980, 56, 115, 376, 78, 1807]\n"
          ],
          "name": "stdout"
        }
      ]
    },
    {
      "cell_type": "code",
      "metadata": {
        "colab": {
          "base_uri": "https://localhost:8080/"
        },
        "id": "adX51GV4tae0",
        "outputId": "58caa137-b164-44c3-cd7e-2249ecbcb51d"
      },
      "source": [
        "len(seq[12])"
      ],
      "execution_count": null,
      "outputs": [
        {
          "output_type": "execute_result",
          "data": {
            "text/plain": [
              "15"
            ]
          },
          "metadata": {
            "tags": []
          },
          "execution_count": 55
        }
      ]
    },
    {
      "cell_type": "code",
      "metadata": {
        "colab": {
          "base_uri": "https://localhost:8080/"
        },
        "id": "IHuNWz5_thBo",
        "outputId": "f689a2d3-fc80-42de-8b64-5b9dfcb99098"
      },
      "source": [
        "print(seq[12])"
      ],
      "execution_count": null,
      "outputs": [
        {
          "output_type": "stream",
          "text": [
            "[43, 769, 88, 1190, 710, 2, 242, 683, 47, 434, 146, 46, 383, 927, 1265]\n"
          ],
          "name": "stdout"
        }
      ]
    },
    {
      "cell_type": "code",
      "metadata": {
        "id": "pjwHGCB2tl5q"
      },
      "source": [
        "#Doing the padding operation so that all the documents are of same length\n",
        "seq=pad_sequences(seq)"
      ],
      "execution_count": null,
      "outputs": []
    },
    {
      "cell_type": "code",
      "metadata": {
        "colab": {
          "base_uri": "https://localhost:8080/"
        },
        "id": "Y5b70ZDup4a0",
        "outputId": "029a90c0-8a7b-4723-d963-2d3ef3e467a1"
      },
      "source": [
        "print(seq[12])"
      ],
      "execution_count": null,
      "outputs": [
        {
          "output_type": "stream",
          "text": [
            "[   0    0    0    0    0    0    0   43  769   88 1190  710    2  242\n",
            "  683   47  434  146   46  383  927 1265]\n"
          ],
          "name": "stdout"
        }
      ]
    },
    {
      "cell_type": "code",
      "metadata": {
        "colab": {
          "base_uri": "https://localhost:8080/"
        },
        "id": "DaqFvctduFE0",
        "outputId": "4b958191-0f94-4764-b40f-578393885577"
      },
      "source": [
        "print(seq[20])"
      ],
      "execution_count": null,
      "outputs": [
        {
          "output_type": "stream",
          "text": [
            "[   0    0    0    0    0    0    0    0    0    0    0    0   43  296\n",
            " 1073 1074 1652  321  315  165 1137  101]\n"
          ],
          "name": "stdout"
        }
      ]
    },
    {
      "cell_type": "code",
      "metadata": {
        "colab": {
          "base_uri": "https://localhost:8080/"
        },
        "id": "zxKV9T8tuJJ3",
        "outputId": "97bf164b-b591-4bf7-82ad-bd86512a35a8"
      },
      "source": [
        "seq.shape"
      ],
      "execution_count": null,
      "outputs": [
        {
          "output_type": "execute_result",
          "data": {
            "text/plain": [
              "(11541, 22)"
            ]
          },
          "metadata": {
            "tags": []
          },
          "execution_count": 61
        }
      ]
    },
    {
      "cell_type": "code",
      "metadata": {
        "id": "P0Jqq8nOuMfU"
      },
      "source": [
        "#converting the label to numeric form\n",
        "y = pd.get_dummies(dataset['airline_sentiment'],drop_first=True).values"
      ],
      "execution_count": null,
      "outputs": []
    },
    {
      "cell_type": "code",
      "metadata": {
        "colab": {
          "base_uri": "https://localhost:8080/"
        },
        "id": "JnjaTL9iug8U",
        "outputId": "cefec069-b54f-494b-f32f-5258b39b15e7"
      },
      "source": [
        "y[3]"
      ],
      "execution_count": null,
      "outputs": [
        {
          "output_type": "execute_result",
          "data": {
            "text/plain": [
              "array([0], dtype=uint8)"
            ]
          },
          "metadata": {
            "tags": []
          },
          "execution_count": 63
        }
      ]
    },
    {
      "cell_type": "code",
      "metadata": {
        "id": "LHWTmdjTukOJ"
      },
      "source": [
        "#splitting the data into train and test\n",
        "x_train,x_test,y_train,y_test=train_test_split(seq,y,test_size=0.2,random_state=0)"
      ],
      "execution_count": null,
      "outputs": []
    },
    {
      "cell_type": "code",
      "metadata": {
        "colab": {
          "base_uri": "https://localhost:8080/"
        },
        "id": "HL751AMiu3PV",
        "outputId": "7dc5caba-f1c5-4ea1-ceb6-2d944ea3bde0"
      },
      "source": [
        "x_train.shape"
      ],
      "execution_count": null,
      "outputs": [
        {
          "output_type": "execute_result",
          "data": {
            "text/plain": [
              "(9232, 22)"
            ]
          },
          "metadata": {
            "tags": []
          },
          "execution_count": 65
        }
      ]
    },
    {
      "cell_type": "code",
      "metadata": {
        "colab": {
          "base_uri": "https://localhost:8080/"
        },
        "id": "SFneZavAu714",
        "outputId": "3c12d0ed-7d81-4cf8-eab5-232071c04618"
      },
      "source": [
        "x_train[3]"
      ],
      "execution_count": null,
      "outputs": [
        {
          "output_type": "execute_result",
          "data": {
            "text/plain": [
              "array([   0,    0,    0,    0,    0,    0,    0,    0,    0,    0,    0,\n",
              "          1,   21,  698, 1485,   88,  239,    2, 1827,   46,   10, 1938],\n",
              "      dtype=int32)"
            ]
          },
          "metadata": {
            "tags": []
          },
          "execution_count": 66
        }
      ]
    },
    {
      "cell_type": "code",
      "metadata": {
        "colab": {
          "base_uri": "https://localhost:8080/"
        },
        "id": "0OstZnLAvADs",
        "outputId": "bd23ab1a-08d2-4b28-b171-3e806d664f37"
      },
      "source": [
        "y_train[3]"
      ],
      "execution_count": null,
      "outputs": [
        {
          "output_type": "execute_result",
          "data": {
            "text/plain": [
              "array([1], dtype=uint8)"
            ]
          },
          "metadata": {
            "tags": []
          },
          "execution_count": 67
        }
      ]
    },
    {
      "cell_type": "code",
      "metadata": {
        "id": "WQ8vP7f_vGjb"
      },
      "source": [
        "#giving the embedding dimension,the size of the dimension which we want to convert our word into\n",
        "embed_dimension=128"
      ],
      "execution_count": null,
      "outputs": []
    },
    {
      "cell_type": "code",
      "metadata": {
        "colab": {
          "base_uri": "https://localhost:8080/"
        },
        "id": "WBpJBLOdvW2f",
        "outputId": "f1efd5de-dd6d-4d9b-9874-7b1dfeb2d298"
      },
      "source": [
        "#Building the model\n",
        "model = Sequential()\n",
        "model.add(Embedding(max_features,embed_dimension,input_length=seq.shape[1])) #Embedding layer - input_Dimension,embed_Dim we need,and the input length of the document\n",
        "model.add(LSTM(128,dropout=0.2,recurrent_dropout=0.2)) #building a lstm layer\n",
        "model.add(Dense(1,activation='sigmoid')) #output layer"
      ],
      "execution_count": null,
      "outputs": [
        {
          "output_type": "stream",
          "text": [
            "WARNING:tensorflow:Layer lstm will not use cuDNN kernel since it doesn't meet the cuDNN kernel criteria. It will use generic GPU kernel as fallback when running on GPU\n"
          ],
          "name": "stdout"
        }
      ]
    },
    {
      "cell_type": "code",
      "metadata": {
        "colab": {
          "base_uri": "https://localhost:8080/"
        },
        "id": "NdiluKnowSqf",
        "outputId": "e8941aa0-58df-4a35-a8bc-c467991d3cfb"
      },
      "source": [
        "model.summary()"
      ],
      "execution_count": null,
      "outputs": [
        {
          "output_type": "stream",
          "text": [
            "Model: \"sequential\"\n",
            "_________________________________________________________________\n",
            "Layer (type)                 Output Shape              Param #   \n",
            "=================================================================\n",
            "embedding (Embedding)        (None, 22, 128)           256000    \n",
            "_________________________________________________________________\n",
            "lstm (LSTM)                  (None, 128)               131584    \n",
            "_________________________________________________________________\n",
            "dense (Dense)                (None, 1)                 129       \n",
            "=================================================================\n",
            "Total params: 387,713\n",
            "Trainable params: 387,713\n",
            "Non-trainable params: 0\n",
            "_________________________________________________________________\n"
          ],
          "name": "stdout"
        }
      ]
    },
    {
      "cell_type": "code",
      "metadata": {
        "id": "XaLkEzUHwWnA"
      },
      "source": [
        "#compiling the model\n",
        "model.compile(loss='binary_crossentropy',optimizer='adam',metrics=['accuracy'])"
      ],
      "execution_count": null,
      "outputs": []
    },
    {
      "cell_type": "code",
      "metadata": {
        "colab": {
          "base_uri": "https://localhost:8080/"
        },
        "id": "cbDfR7pLwnYM",
        "outputId": "7f3e0bdf-d11c-491c-ba9b-3f6c407b2641"
      },
      "source": [
        "#training our model and checking the validation accuracy\n",
        "model.fit(x_train,y_train,batch_size=100,validation_data=(x_test,y_test),epochs=10)"
      ],
      "execution_count": null,
      "outputs": [
        {
          "output_type": "stream",
          "text": [
            "Epoch 1/10\n",
            "93/93 [==============================] - 14s 96ms/step - loss: 0.4996 - accuracy: 0.8034 - val_loss: 0.2363 - val_accuracy: 0.9112\n",
            "Epoch 2/10\n",
            "93/93 [==============================] - 9s 93ms/step - loss: 0.1904 - accuracy: 0.9270 - val_loss: 0.1953 - val_accuracy: 0.9272\n",
            "Epoch 3/10\n",
            "93/93 [==============================] - 9s 95ms/step - loss: 0.1416 - accuracy: 0.9470 - val_loss: 0.2012 - val_accuracy: 0.9246\n",
            "Epoch 4/10\n",
            "93/93 [==============================] - 9s 92ms/step - loss: 0.1216 - accuracy: 0.9557 - val_loss: 0.2087 - val_accuracy: 0.9186\n",
            "Epoch 5/10\n",
            "93/93 [==============================] - 9s 92ms/step - loss: 0.1019 - accuracy: 0.9634 - val_loss: 0.2279 - val_accuracy: 0.9160\n",
            "Epoch 6/10\n",
            "93/93 [==============================] - 9s 93ms/step - loss: 0.0898 - accuracy: 0.9659 - val_loss: 0.2515 - val_accuracy: 0.9186\n",
            "Epoch 7/10\n",
            "93/93 [==============================] - 9s 92ms/step - loss: 0.0735 - accuracy: 0.9714 - val_loss: 0.2791 - val_accuracy: 0.9147\n",
            "Epoch 8/10\n",
            "93/93 [==============================] - 9s 93ms/step - loss: 0.0657 - accuracy: 0.9766 - val_loss: 0.2839 - val_accuracy: 0.9177\n",
            "Epoch 9/10\n",
            "93/93 [==============================] - 9s 93ms/step - loss: 0.0575 - accuracy: 0.9801 - val_loss: 0.3048 - val_accuracy: 0.9147\n",
            "Epoch 10/10\n",
            "93/93 [==============================] - 9s 93ms/step - loss: 0.0546 - accuracy: 0.9776 - val_loss: 0.3286 - val_accuracy: 0.9108\n"
          ],
          "name": "stdout"
        },
        {
          "output_type": "execute_result",
          "data": {
            "text/plain": [
              "<tensorflow.python.keras.callbacks.History at 0x7f1b4e313e50>"
            ]
          },
          "metadata": {
            "tags": []
          },
          "execution_count": 72
        }
      ]
    },
    {
      "cell_type": "code",
      "metadata": {
        "id": "oUE7uHXNw8lT"
      },
      "source": [
        "#predicting a random tweet\n",
        "tweets=[\"virginamerica has the most incredible customer service i've ever experienced! so refreshing!\"]"
      ],
      "execution_count": null,
      "outputs": []
    },
    {
      "cell_type": "code",
      "metadata": {
        "colab": {
          "base_uri": "https://localhost:8080/"
        },
        "id": "wcdBi0BRx3Kw",
        "outputId": "bcf01bb2-efc0-422c-f0f5-9b559663ed55"
      },
      "source": [
        "from nltk import word_tokenize\n",
        "nltk.download('punkt')"
      ],
      "execution_count": null,
      "outputs": [
        {
          "output_type": "stream",
          "text": [
            "[nltk_data] Downloading package punkt to /root/nltk_data...\n",
            "[nltk_data]   Unzipping tokenizers/punkt.zip.\n"
          ],
          "name": "stdout"
        },
        {
          "output_type": "execute_result",
          "data": {
            "text/plain": [
              "True"
            ]
          },
          "metadata": {
            "tags": []
          },
          "execution_count": 75
        }
      ]
    },
    {
      "cell_type": "code",
      "metadata": {
        "id": "Grf7T3p1x3O0"
      },
      "source": [
        "#tokenizing the tweet\n",
        "tokenizer.fit_on_texts(tweets)"
      ],
      "execution_count": null,
      "outputs": []
    },
    {
      "cell_type": "code",
      "metadata": {
        "id": "HYHrAWo3yjwM"
      },
      "source": [
        "#removing stop words from the tweet\n",
        "filtered_twts=[]\n",
        "for word in tweets:\n",
        "  if word not in stop_words:\n",
        "    filtered_twts.append(word)"
      ],
      "execution_count": null,
      "outputs": []
    },
    {
      "cell_type": "code",
      "metadata": {
        "colab": {
          "base_uri": "https://localhost:8080/"
        },
        "id": "d79zRRjIy1WF",
        "outputId": "2521b0e5-6785-4eb5-ff48-46a50fc7aee6"
      },
      "source": [
        "filtered_twts"
      ],
      "execution_count": null,
      "outputs": [
        {
          "output_type": "execute_result",
          "data": {
            "text/plain": [
              "[\"virginamerica has the most incredible customer service i've ever experienced! so refreshing!\"]"
            ]
          },
          "metadata": {
            "tags": []
          },
          "execution_count": 78
        }
      ]
    },
    {
      "cell_type": "code",
      "metadata": {
        "id": "_SFDykbJy5Vh"
      },
      "source": [
        "#converting text to sequence\n",
        "seq1=tokenizer.texts_to_sequences(filtered_twts)"
      ],
      "execution_count": null,
      "outputs": []
    },
    {
      "cell_type": "code",
      "metadata": {
        "colab": {
          "base_uri": "https://localhost:8080/"
        },
        "id": "2ZxY-nO7zGKV",
        "outputId": "d25b4248-42e2-4d1c-f95d-b4074a336a78"
      },
      "source": [
        "seq1"
      ],
      "execution_count": null,
      "outputs": [
        {
          "output_type": "execute_result",
          "data": {
            "text/plain": [
              "[[43, 1286, 11, 10, 77, 898]]"
            ]
          },
          "metadata": {
            "tags": []
          },
          "execution_count": 80
        }
      ]
    },
    {
      "cell_type": "code",
      "metadata": {
        "colab": {
          "base_uri": "https://localhost:8080/"
        },
        "id": "qPoZFaWnzItS",
        "outputId": "b63a67e6-e33c-4682-d77d-b7066ef91a9c"
      },
      "source": [
        "print(seq1)"
      ],
      "execution_count": null,
      "outputs": [
        {
          "output_type": "stream",
          "text": [
            "[[43, 1286, 11, 10, 77, 898]]\n"
          ],
          "name": "stdout"
        }
      ]
    },
    {
      "cell_type": "code",
      "metadata": {
        "id": "mulf2EEEzOAX"
      },
      "source": [
        "#padding our document according to shape of our data\n",
        "seq1 = pad_sequences(seq1,maxlen=22)"
      ],
      "execution_count": null,
      "outputs": []
    },
    {
      "cell_type": "code",
      "metadata": {
        "colab": {
          "base_uri": "https://localhost:8080/"
        },
        "id": "UcwfXD7Xza-V",
        "outputId": "5f07812d-fd2a-46ee-89d8-7128f90ea7c7"
      },
      "source": [
        "seq1"
      ],
      "execution_count": null,
      "outputs": [
        {
          "output_type": "execute_result",
          "data": {
            "text/plain": [
              "array([[   0,    0,    0,    0,    0,    0,    0,    0,    0,    0,    0,\n",
              "           0,    0,    0,    0,    0,   43, 1286,   11,   10,   77,  898]],\n",
              "      dtype=int32)"
            ]
          },
          "metadata": {
            "tags": []
          },
          "execution_count": 84
        }
      ]
    },
    {
      "cell_type": "code",
      "metadata": {
        "colab": {
          "base_uri": "https://localhost:8080/"
        },
        "id": "re6abWlhzdzf",
        "outputId": "8e807931-35dd-4ecf-9dc1-0a02b88e0cd4"
      },
      "source": [
        "#predicting the sentiment of the tweet\n",
        "y_pred=model.predict_classes(seq1)"
      ],
      "execution_count": null,
      "outputs": [
        {
          "output_type": "stream",
          "text": [
            "/usr/local/lib/python3.7/dist-packages/tensorflow/python/keras/engine/sequential.py:450: UserWarning: `model.predict_classes()` is deprecated and will be removed after 2021-01-01. Please use instead:* `np.argmax(model.predict(x), axis=-1)`,   if your model does multi-class classification   (e.g. if it uses a `softmax` last-layer activation).* `(model.predict(x) > 0.5).astype(\"int32\")`,   if your model does binary classification   (e.g. if it uses a `sigmoid` last-layer activation).\n",
            "  warnings.warn('`model.predict_classes()` is deprecated and '\n"
          ],
          "name": "stderr"
        }
      ]
    },
    {
      "cell_type": "code",
      "metadata": {
        "colab": {
          "base_uri": "https://localhost:8080/"
        },
        "id": "eYzxHyiszobk",
        "outputId": "07b5f261-3228-43d5-d14c-23e4838a7d1f"
      },
      "source": [
        "y_pred"
      ],
      "execution_count": null,
      "outputs": [
        {
          "output_type": "execute_result",
          "data": {
            "text/plain": [
              "array([[1]], dtype=int32)"
            ]
          },
          "metadata": {
            "tags": []
          },
          "execution_count": 86
        }
      ]
    }
  ]
}