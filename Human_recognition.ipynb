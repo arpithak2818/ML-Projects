{
  "nbformat": 4,
  "nbformat_minor": 0,
  "metadata": {
    "colab": {
      "name": "Human recognition.ipynb",
      "private_outputs": true,
      "provenance": [],
      "collapsed_sections": [],
      "mount_file_id": "1DafyM1B7PpLpEIzSLGbiyKpObEm4ow9f",
      "authorship_tag": "ABX9TyNtr3PEkVwYVJgSG3eV9qq+",
      "include_colab_link": true
    },
    "kernelspec": {
      "name": "python3",
      "display_name": "Python 3"
    },
    "language_info": {
      "name": "python"
    },
    "accelerator": "GPU"
  },
  "cells": [
    {
      "cell_type": "markdown",
      "metadata": {
        "id": "view-in-github",
        "colab_type": "text"
      },
      "source": [
        "<a href=\"https://colab.research.google.com/github/arpithak2818/ML-Projects/blob/main/Human_recognition.ipynb\" target=\"_parent\"><img src=\"https://colab.research.google.com/assets/colab-badge.svg\" alt=\"Open In Colab\"/></a>"
      ]
    },
    {
      "cell_type": "code",
      "metadata": {
        "id": "bRrf3-fIKrB5"
      },
      "source": [
        "# Install RAPIDS\n",
        "!git clone https://github.com/rapidsai/rapidsai-csp-utils.git\n",
        "!bash rapidsai-csp-utils/colab/rapids-colab.sh stable\n",
        "\n",
        "import sys, os\n",
        "\n",
        "dist_package_index = sys.path.index('/usr/local/lib/python3.7/dist-packages')\n",
        "sys.path = sys.path[:dist_package_index] + ['/usr/local/lib/python3.7/site-packages'] + sys.path[dist_package_index:]\n",
        "sys.path\n",
        "exec(open('rapidsai-csp-utils/colab/update_modules.py').read(), globals())"
      ],
      "execution_count": null,
      "outputs": []
    },
    {
      "cell_type": "code",
      "metadata": {
        "id": "x5srQOIUPpRC"
      },
      "source": [
        "import numpy as np\n",
        "import pandas as pd\n",
        "import seaborn as sns\n",
        "import matplotlib.pyplot as plt\n",
        "import tqdm"
      ],
      "execution_count": null,
      "outputs": []
    },
    {
      "cell_type": "code",
      "metadata": {
        "id": "1dZZNHNKPxq-"
      },
      "source": [
        "\n",
        "%%time\n",
        "pd_train = pd.read_csv(\"/content/drive/MyDrive/Human Activity Recognition/train.csv\")\n",
        "pd_test = pd.read_csv(\"/content/drive/MyDrive/Human Activity Recognition/test.csv\")"
      ],
      "execution_count": null,
      "outputs": []
    },
    {
      "cell_type": "code",
      "metadata": {
        "id": "4reRmzpmQLZ-"
      },
      "source": [
        "pd_train.head()"
      ],
      "execution_count": null,
      "outputs": []
    },
    {
      "cell_type": "code",
      "metadata": {
        "id": "IQmr9cvbQYTU"
      },
      "source": [
        "pd_test.head()"
      ],
      "execution_count": null,
      "outputs": []
    },
    {
      "cell_type": "code",
      "metadata": {
        "id": "84r_E99BQdJN"
      },
      "source": [
        "%%time\n",
        "pd_data  = pd.concat([pd_train , pd_test])\n",
        "print(pd_data.head())\n",
        "pd_data.reset_index(inplace = True)\n",
        "pd_data.drop('index' , inplace = True, axis = 1)"
      ],
      "execution_count": null,
      "outputs": []
    },
    {
      "cell_type": "code",
      "metadata": {
        "id": "pmL4eACrQjT1"
      },
      "source": [
        "pd_data.head()"
      ],
      "execution_count": null,
      "outputs": []
    },
    {
      "cell_type": "code",
      "metadata": {
        "id": "zKcPoB24QnS0"
      },
      "source": [
        "pd_data.shape"
      ],
      "execution_count": null,
      "outputs": []
    },
    {
      "cell_type": "code",
      "metadata": {
        "id": "A4G9grSTQtFb"
      },
      "source": [
        "print(pd_data.columns)"
      ],
      "execution_count": null,
      "outputs": []
    },
    {
      "cell_type": "code",
      "metadata": {
        "id": "AT0-ii0PQwo0"
      },
      "source": [
        "y = pd_data['Activity'].copy()\n",
        "x = pd_data.iloc[:,:-1]"
      ],
      "execution_count": null,
      "outputs": []
    },
    {
      "cell_type": "code",
      "metadata": {
        "id": "CQC8gNpsQ17p"
      },
      "source": [
        "x.head()"
      ],
      "execution_count": null,
      "outputs": []
    },
    {
      "cell_type": "code",
      "metadata": {
        "id": "4x4V2cO7Q5me"
      },
      "source": [
        "columnNames = list()\n",
        "columnNames = pd_data.columns\n",
        "columnNames"
      ],
      "execution_count": null,
      "outputs": []
    },
    {
      "cell_type": "code",
      "metadata": {
        "id": "-U6u3yqsSzfT"
      },
      "source": [
        "list(columnNames)"
      ],
      "execution_count": null,
      "outputs": []
    },
    {
      "cell_type": "code",
      "metadata": {
        "id": "PB7hAHD9S43y"
      },
      "source": [
        "bad_char = ['-','()','(',')',',']"
      ],
      "execution_count": null,
      "outputs": []
    },
    {
      "cell_type": "code",
      "metadata": {
        "id": "JmD3SP_zS-lG"
      },
      "source": [
        "newcolumnNames = []\n",
        "for colname in columnNames:\n",
        "  newcolumnName = ''.join(i for i in colname if i not in bad_char)\n",
        "  newcolumnNames.append(newcolumnName)"
      ],
      "execution_count": null,
      "outputs": []
    },
    {
      "cell_type": "code",
      "metadata": {
        "id": "n_DBfyxoTDSq"
      },
      "source": [
        "list(newcolumnNames)"
      ],
      "execution_count": null,
      "outputs": []
    },
    {
      "cell_type": "code",
      "metadata": {
        "id": "d13uTF4tUMbi"
      },
      "source": [
        "pd_data.columns = newcolumnNames"
      ],
      "execution_count": null,
      "outputs": []
    },
    {
      "cell_type": "code",
      "metadata": {
        "id": "TXTNw_k_UVpN"
      },
      "source": [
        "pd_data.head()"
      ],
      "execution_count": null,
      "outputs": []
    },
    {
      "cell_type": "code",
      "metadata": {
        "id": "8rcPBzLBUZo5"
      },
      "source": [
        "pd_data.isnull().sum()"
      ],
      "execution_count": null,
      "outputs": []
    },
    {
      "cell_type": "code",
      "metadata": {
        "id": "6U7T3rV6UfIA"
      },
      "source": [
        "%%time\n",
        "y.value_counts().plot.bar()"
      ],
      "execution_count": null,
      "outputs": []
    },
    {
      "cell_type": "code",
      "metadata": {
        "id": "m9DiIH2hUj6Y"
      },
      "source": [
        "%%time\n",
        "pd_data.groupby('Activity').mean()['tBodyAccmeanX']"
      ],
      "execution_count": null,
      "outputs": []
    },
    {
      "cell_type": "code",
      "metadata": {
        "id": "eHDiP1eJUqXi"
      },
      "source": [
        "%%time\n",
        "pd_data.groupby('Activity').mean()['tBodyAccstdX']"
      ],
      "execution_count": null,
      "outputs": []
    },
    {
      "cell_type": "code",
      "metadata": {
        "id": "4M4F1lW2Uuln"
      },
      "source": [
        "%%time\n",
        "sns.set_style('whitegrid')\n",
        "plt.rcParams['font.family'] = 'Dejavu Sans'\n",
        "plt.figure(figsize=(16,10))\n",
        "plt.title(\"Data collected per person\",fontsize = 15)\n",
        "sns.countplot(x = 'subject' , hue = 'Activity', data = pd_data)\n",
        "plt.show()"
      ],
      "execution_count": null,
      "outputs": []
    },
    {
      "cell_type": "code",
      "metadata": {
        "id": "Rfm3UmVtUz2E"
      },
      "source": [
        "%%time\n",
        "facetgrid = sns.FacetGrid(pd_data, hue = 'Activity', size = 6 , aspect =2 )\n",
        "facetgrid.map(sns.distplot,'tBodyAccMagmean', hist = False).add_legend()\n",
        "plt.annotate(\"Stationary Activities\", xy = (-0.956, 15) , xytext = (-0.9,15), size = 15, \\\n",
        "             va = 'center', ha = 'left', \\\n",
        "             arrowprops = dict(arrowstyle ='simple', connectionstyle = 'arc3,rad = 0.1'))\n",
        "plt.annotate(\"Moving Activities\", xy = (0.0, 3) , xytext = (0.0,5), size = 15, \\\n",
        "             va = 'center', ha = 'left', \\\n",
        "             arrowprops = dict(arrowstyle ='simple', connectionstyle = 'arc3,rad = 0.1'))"
      ],
      "execution_count": null,
      "outputs": []
    },
    {
      "cell_type": "code",
      "metadata": {
        "id": "eP9-FbJrU5wq"
      },
      "source": [
        "%%time\n",
        "facetgrid = sns.FacetGrid(pd_data, hue = 'Activity', size = 6 , aspect =2 )\n",
        "facetgrid.map(sns.distplot,'fBodyAccMagmean', hist = False).add_legend()\n",
        "plt.annotate(\"Stationary Activities\", xy = (-0.956, 15) , xytext = (-0.9,15), size = 15, \\\n",
        "             va = 'center', ha = 'left', \\\n",
        "             arrowprops = dict(arrowstyle ='simple', connectionstyle = 'arc3,rad = 0.1'))\n",
        "plt.annotate(\"Moving Activities\", xy = (0.0, 3) , xytext = (0.0,5), size = 15, \\\n",
        "             va = 'center', ha = 'left', \\\n",
        "             arrowprops = dict(arrowstyle ='simple', connectionstyle = 'arc3,rad = 0.1'))"
      ],
      "execution_count": null,
      "outputs": []
    },
    {
      "cell_type": "code",
      "metadata": {
        "id": "ycdT7KetU-0-"
      },
      "source": [
        "%%time\n",
        "facetgrid = sns.FacetGrid(pd_data, hue = 'Activity', size = 6 , aspect =2 )\n",
        "facetgrid.map(sns.distplot,'tBodyAccJerksma', hist = False).add_legend()\n",
        "plt.annotate(\"Stationary Activities\", xy = (-0.956, 15) , xytext = (-0.9,15), size = 15, \\\n",
        "             va = 'center', ha = 'left', \\\n",
        "             arrowprops = dict(arrowstyle ='simple', connectionstyle = 'arc3,rad = 0.1'))\n",
        "plt.annotate(\"Moving Activities\", xy = (0.0, 3) , xytext = (0.0,5), size = 15, \\\n",
        "             va = 'center', ha = 'left', \\\n",
        "             arrowprops = dict(arrowstyle ='simple', connectionstyle = 'arc3,rad = 0.1'))"
      ],
      "execution_count": null,
      "outputs": []
    },
    {
      "cell_type": "code",
      "metadata": {
        "id": "l54JAf89VEnE"
      },
      "source": [
        "%%time\n",
        "from sklearn.metrics import confusion_matrix, classification_report, accuracy_score"
      ],
      "execution_count": null,
      "outputs": []
    },
    {
      "cell_type": "code",
      "metadata": {
        "id": "qiR6JZuiVJm3"
      },
      "source": [
        "y = y.map({'STANDING': 0, 'SITTING': 1, 'LAYING': 2, 'WALKING' : 3, 'WALKING_DOWNSTAIRS': 4, 'WALKING_UPSTAIRS': 5})"
      ],
      "execution_count": null,
      "outputs": []
    },
    {
      "cell_type": "code",
      "metadata": {
        "id": "yZVUTyEwVV0M"
      },
      "source": [
        "y.unique()"
      ],
      "execution_count": null,
      "outputs": []
    },
    {
      "cell_type": "code",
      "metadata": {
        "id": "uID5y3GyVbFq"
      },
      "source": [
        "print(y.shape , x.shape)"
      ],
      "execution_count": null,
      "outputs": []
    },
    {
      "cell_type": "code",
      "metadata": {
        "id": "OB_lcONoVgFg"
      },
      "source": [
        "from sklearn.model_selection import train_test_split"
      ],
      "execution_count": null,
      "outputs": []
    },
    {
      "cell_type": "code",
      "metadata": {
        "id": "aosOr_KpVkwk"
      },
      "source": [
        "%%time\n",
        "x_train, x_test, y_train, y_test = train_test_split(x,y, test_size = 0.2 , random_state = 10)"
      ],
      "execution_count": null,
      "outputs": []
    },
    {
      "cell_type": "code",
      "metadata": {
        "id": "dgtmbpD7Voso"
      },
      "source": [
        "print(x_train.shape, x_test.shape)"
      ],
      "execution_count": null,
      "outputs": []
    },
    {
      "cell_type": "code",
      "metadata": {
        "id": "TdglyCP5VteT"
      },
      "source": [
        "%%time \n",
        "from sklearn.linear_model import LogisticRegression"
      ],
      "execution_count": null,
      "outputs": []
    },
    {
      "cell_type": "code",
      "metadata": {
        "id": "5RaVUeBGVzUK"
      },
      "source": [
        "logreg = LogisticRegression(penalty = 'l2', solver = 'liblinear')"
      ],
      "execution_count": null,
      "outputs": []
    },
    {
      "cell_type": "code",
      "metadata": {
        "id": "OWn3Vp7rV7kV"
      },
      "source": [
        "%%time\n",
        "logreg.fit(x_train,y_train)"
      ],
      "execution_count": null,
      "outputs": []
    },
    {
      "cell_type": "code",
      "metadata": {
        "id": "rqwTo69uWB0M"
      },
      "source": [
        "%%time \n",
        "y_pred = logreg.predict(x_test)\n"
      ],
      "execution_count": null,
      "outputs": []
    },
    {
      "cell_type": "code",
      "metadata": {
        "id": "BrYCe5xhWFo2"
      },
      "source": [
        "y_pred[0:10]"
      ],
      "execution_count": null,
      "outputs": []
    },
    {
      "cell_type": "code",
      "metadata": {
        "id": "C22potxsWJNX"
      },
      "source": [
        "y_test[0:10]"
      ],
      "execution_count": null,
      "outputs": []
    },
    {
      "cell_type": "code",
      "metadata": {
        "id": "GDw3Fr2NWMao"
      },
      "source": [
        "%%time\n",
        "accuracy_score(y_test,y_pred)"
      ],
      "execution_count": null,
      "outputs": []
    },
    {
      "cell_type": "code",
      "metadata": {
        "id": "0g23oGwlWRLQ"
      },
      "source": [
        "%%time\n",
        "print(classification_report(y_test,y_pred))"
      ],
      "execution_count": null,
      "outputs": []
    },
    {
      "cell_type": "code",
      "metadata": {
        "id": "r_c5cLkuWVfl"
      },
      "source": [
        "from sklearn.svm import SVC\n",
        "from sklearn.model_selection import GridSearchCV"
      ],
      "execution_count": null,
      "outputs": []
    },
    {
      "cell_type": "code",
      "metadata": {
        "id": "uERa0uRVWaOc"
      },
      "source": [
        "%%time\n",
        "parameters = {\n",
        "    'kernel' : ['linear','rbf'],\n",
        "    'degree' : [2,3]\n",
        "\n",
        "}"
      ],
      "execution_count": null,
      "outputs": []
    },
    {
      "cell_type": "code",
      "metadata": {
        "id": "-W1BleSvWeBy"
      },
      "source": [
        "%%time\n",
        "svclf = SVC(kernel= 'linear', gamma = 0.1)\n",
        "GridSVC = GridSearchCV(svclf, param_grid= parameters, n_jobs= -1)\n",
        "svclf.fit(x_train,y_train)"
      ],
      "execution_count": null,
      "outputs": []
    },
    {
      "cell_type": "code",
      "metadata": {
        "id": "8b8XHx48Woyj"
      },
      "source": [
        "bestsvc = GridSVC.set_params"
      ],
      "execution_count": null,
      "outputs": []
    },
    {
      "cell_type": "code",
      "metadata": {
        "id": "MEGDwCjTXB8g"
      },
      "source": [
        "bestsvc().fit(x_train,y_train)"
      ],
      "execution_count": null,
      "outputs": []
    },
    {
      "cell_type": "code",
      "metadata": {
        "id": "BrbGO6tSYhSU"
      },
      "source": [
        "%%time\n",
        "y_pred_svc = bestsvc().predict(x_test)"
      ],
      "execution_count": null,
      "outputs": []
    },
    {
      "cell_type": "code",
      "metadata": {
        "id": "-hH2vRjjYsLS"
      },
      "source": [
        "import cudf as gdf"
      ],
      "execution_count": null,
      "outputs": []
    },
    {
      "cell_type": "code",
      "metadata": {
        "id": "DkoUsYSxYwHE"
      },
      "source": [
        "%%time\n",
        "gpu_train = gdf.read_csv('/content/drive/MyDrive/Human Activity Recognition/train.csv')\n",
        "gpu_test = gdf.read_csv('/content/drive/MyDrive/Human Activity Recognition/test.csv')"
      ],
      "execution_count": null,
      "outputs": []
    },
    {
      "cell_type": "code",
      "metadata": {
        "id": "Rjoa5zr1fNV9"
      },
      "source": [
        "!nvidia-smi"
      ],
      "execution_count": null,
      "outputs": []
    },
    {
      "cell_type": "code",
      "metadata": {
        "id": "On3WO5F_fQiZ"
      },
      "source": [
        "from cuml.model_selection import train_test_split"
      ],
      "execution_count": null,
      "outputs": []
    },
    {
      "cell_type": "code",
      "metadata": {
        "id": "kzCLOVgofVbt"
      },
      "source": [
        "%%time\n",
        "gpu_data = gdf.concat([gpu_train,gpu_test])\n",
        "gpu_data.reset_index(inplace = True)\n",
        "gpu_data.drop('index',inplace = True , axis = 1)"
      ],
      "execution_count": null,
      "outputs": []
    },
    {
      "cell_type": "code",
      "metadata": {
        "id": "jYuITD0mfjTU"
      },
      "source": [
        "!nvidia-smi"
      ],
      "execution_count": null,
      "outputs": []
    },
    {
      "cell_type": "code",
      "metadata": {
        "id": "uj7qqnRWfmos"
      },
      "source": [
        "%%time\n",
        "\n",
        "gpu_data.groupby('Activity').mean()"
      ],
      "execution_count": null,
      "outputs": []
    },
    {
      "cell_type": "code",
      "metadata": {
        "id": "UBNmpjx6fsB8"
      },
      "source": [
        "from cuml.preprocessing import LabelEncoder"
      ],
      "execution_count": null,
      "outputs": []
    },
    {
      "cell_type": "code",
      "metadata": {
        "id": "FmgmdZfjfwBT"
      },
      "source": [
        "le  = LabelEncoder()"
      ],
      "execution_count": null,
      "outputs": []
    },
    {
      "cell_type": "code",
      "metadata": {
        "id": "X76VAKoof0Rl"
      },
      "source": [
        "%%time\n",
        "x_gpu = gpu_data.drop('Activity', inplace=False, axis=1)\n",
        "y_gpu = gpu_data['Activity'].copy()"
      ],
      "execution_count": null,
      "outputs": []
    },
    {
      "cell_type": "code",
      "metadata": {
        "id": "S8-ZxtHvf34C"
      },
      "source": [
        "%%time\n",
        "le.fit(y_gpu)\n",
        "encodedLabels = le.transform(y_gpu)"
      ],
      "execution_count": null,
      "outputs": []
    },
    {
      "cell_type": "code",
      "metadata": {
        "id": "rpJp4Lwaf7ay"
      },
      "source": [
        "y_gpu = y_gpu.map({'STANDING':0,'SITTING':1,'LAYING':2,'WALKING':3,'WALKING_DOWNSTAIRS':4, 'WALKING_UPSTAIRS':5})"
      ],
      "execution_count": null,
      "outputs": []
    },
    {
      "cell_type": "code",
      "metadata": {
        "id": "9gA6znpVf_OH"
      },
      "source": [
        "x_gpu = x_gpu.drop('subject',inplace=False, axis = 1)"
      ],
      "execution_count": null,
      "outputs": []
    },
    {
      "cell_type": "code",
      "metadata": {
        "id": "rn7WexP4gD1W"
      },
      "source": [
        "%%time \n",
        "x_train_gpu,x_test_gpu,y_train_gpu,y_test_gpu = train_test_split(x_gpu, y_gpu , test_size  = 0.2 , random_state = 12)"
      ],
      "execution_count": null,
      "outputs": []
    },
    {
      "cell_type": "code",
      "metadata": {
        "id": "MQqPpsiygH1z"
      },
      "source": [
        "import cupy as cup # here this is a replacement for numpy"
      ],
      "execution_count": null,
      "outputs": []
    },
    {
      "cell_type": "code",
      "metadata": {
        "id": "HvC8gQISgLOl"
      },
      "source": [
        "cup.random.seed(10)\n",
        "y_pred_gpu = cup.random.randint(low = 0 , high = 8)"
      ],
      "execution_count": null,
      "outputs": []
    },
    {
      "cell_type": "code",
      "metadata": {
        "id": "JbaHj7KXgO6j"
      },
      "source": [
        "from cuml.linear_model import LogisticRegression"
      ],
      "execution_count": null,
      "outputs": []
    },
    {
      "cell_type": "code",
      "metadata": {
        "id": "bXSFWPbYgSLu"
      },
      "source": [
        "%%time\n",
        "gpu_log = LogisticRegression(solver='qn')"
      ],
      "execution_count": null,
      "outputs": []
    },
    {
      "cell_type": "code",
      "metadata": {
        "id": "MaKb59KRgVsj"
      },
      "source": [
        "%%time\n",
        "gpu_log.fit(x_train_gpu,y_train_gpu)"
      ],
      "execution_count": null,
      "outputs": []
    },
    {
      "cell_type": "code",
      "metadata": {
        "id": "f7Q8hxs9gaav"
      },
      "source": [
        "%%time\n",
        "from cuml.svm import SVC \n",
        "from cuml.model_selection import GridSearchCV"
      ],
      "execution_count": null,
      "outputs": []
    },
    {
      "cell_type": "code",
      "metadata": {
        "id": "uDgKw-IZgfkX"
      },
      "source": [
        "%%time\n",
        "parameters = {\n",
        "    'kernel' : ['linear','rbf'],\n",
        "    'degree' : [2,3]\n",
        "\n",
        "}"
      ],
      "execution_count": null,
      "outputs": []
    },
    {
      "cell_type": "code",
      "metadata": {
        "id": "zLU7b7S2gi-1"
      },
      "source": [
        "%%time\n",
        "svc_gpu  = SVC(kernel= 'linear',gamma=0.1)"
      ],
      "execution_count": null,
      "outputs": []
    },
    {
      "cell_type": "code",
      "metadata": {
        "id": "jPlxvG8NgmeY"
      },
      "source": [
        "%%time\n",
        "svc_gpu.fit(x_train_gpu,y_train_gpu)"
      ],
      "execution_count": null,
      "outputs": []
    },
    {
      "cell_type": "code",
      "metadata": {
        "id": "lS2jRnSLgqOh"
      },
      "source": [
        "%%time\n",
        "y_pred_gpu = svc_gpu.predict(x_test_gpu)"
      ],
      "execution_count": null,
      "outputs": []
    },
    {
      "cell_type": "code",
      "metadata": {
        "id": "1GUtAwlUgue8"
      },
      "source": [
        "%%time\n",
        "y_pred_gpu_1 = gpu_log.predict(x_test_gpu)"
      ],
      "execution_count": null,
      "outputs": []
    },
    {
      "cell_type": "code",
      "metadata": {
        "id": "_yrZmvdSgxia"
      },
      "source": [
        "from cuml.metrics import confusion_matrix, accuracy_score"
      ],
      "execution_count": null,
      "outputs": []
    },
    {
      "cell_type": "code",
      "metadata": {
        "id": "aEaGfnn8g0wb"
      },
      "source": [
        "%%time\n",
        "confusion_matrix(y_test_gpu,y_pred_gpu)"
      ],
      "execution_count": null,
      "outputs": []
    },
    {
      "cell_type": "code",
      "metadata": {
        "id": "pBGUE7KAg5Js"
      },
      "source": [
        "%%time\n",
        "confusion_matrix(y_test_gpu,y_pred_gpu_1)"
      ],
      "execution_count": null,
      "outputs": []
    },
    {
      "cell_type": "code",
      "metadata": {
        "id": "TaWt6tscg-5m"
      },
      "source": [
        "%%time\n",
        "print(accuracy_score(y_test_gpu,y_pred_gpu))\n",
        "print(accuracy_score(y_test_gpu,y_pred_gpu_1))"
      ],
      "execution_count": null,
      "outputs": []
    }
  ]
}